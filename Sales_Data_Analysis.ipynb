{
  "nbformat": 4,
  "nbformat_minor": 0,
  "metadata": {
    "colab": {
      "provenance": [],
      "authorship_tag": "ABX9TyNbGIMQn6e6O0hPI+PzdDt2",
      "include_colab_link": true
    },
    "kernelspec": {
      "name": "python3",
      "display_name": "Python 3"
    },
    "language_info": {
      "name": "python"
    }
  },
  "cells": [
    {
      "cell_type": "markdown",
      "metadata": {
        "id": "view-in-github",
        "colab_type": "text"
      },
      "source": [
        "<a href=\"https://colab.research.google.com/github/Shrutika006/Data-Analysis-Projects/blob/main/Sales_Data_Analysis.ipynb\" target=\"_parent\"><img src=\"https://colab.research.google.com/assets/colab-badge.svg\" alt=\"Open In Colab\"/></a>"
      ]
    },
    {
      "cell_type": "markdown",
      "source": [
        "Sales Data Analysis"
      ],
      "metadata": {
        "id": "diWwQJrkRyqG"
      }
    },
    {
      "cell_type": "code",
      "execution_count": 1,
      "metadata": {
        "id": "YXkW3FolQ3Eh"
      },
      "outputs": [],
      "source": [
        "import os\n",
        "import pandas as pd\n",
        "import matplotlib.pyplot as plt\n",
        "import seaborn as sns\n",
        "import plotly.graph_objs as go\n",
        "from plotly.offline import iplot"
      ]
    },
    {
      "cell_type": "code",
      "source": [
        "all_data = pd.read_csv('/content/Sales Data.csv')\n",
        "all_data.head()"
      ],
      "metadata": {
        "colab": {
          "base_uri": "https://localhost:8080/",
          "height": 310
        },
        "id": "9xCi87gzU56i",
        "outputId": "76b16523-a681-4c66-fe5b-09fb4c82c112"
      },
      "execution_count": 2,
      "outputs": [
        {
          "output_type": "execute_result",
          "data": {
            "text/plain": [
              "   Unnamed: 0  Order ID               Product  Quantity Ordered  Price Each  \\\n",
              "0           0    295665    Macbook Pro Laptop                 1     1700.00   \n",
              "1           1    295666    LG Washing Machine                 1      600.00   \n",
              "2           2    295667  USB-C Charging Cable                 1       11.95   \n",
              "3           3    295668      27in FHD Monitor                 1      149.99   \n",
              "4           4    295669  USB-C Charging Cable                 1       11.95   \n",
              "\n",
              "            Order Date                        Purchase Address  Month  \\\n",
              "0  2019-12-30 00:01:00  136 Church St, New York City, NY 10001     12   \n",
              "1  2019-12-29 07:03:00     562 2nd St, New York City, NY 10001     12   \n",
              "2  2019-12-12 18:21:00    277 Main St, New York City, NY 10001     12   \n",
              "3  2019-12-22 15:13:00     410 6th St, San Francisco, CA 94016     12   \n",
              "4  2019-12-18 12:38:00           43 Hill St, Atlanta, GA 30301     12   \n",
              "\n",
              "     Sales            City  Hour  \n",
              "0  1700.00   New York City     0  \n",
              "1   600.00   New York City     7  \n",
              "2    11.95   New York City    18  \n",
              "3   149.99   San Francisco    15  \n",
              "4    11.95         Atlanta    12  "
            ],
            "text/html": [
              "\n",
              "  <div id=\"df-9fab20d4-c5d4-41c6-8fef-54526575b9d9\" class=\"colab-df-container\">\n",
              "    <div>\n",
              "<style scoped>\n",
              "    .dataframe tbody tr th:only-of-type {\n",
              "        vertical-align: middle;\n",
              "    }\n",
              "\n",
              "    .dataframe tbody tr th {\n",
              "        vertical-align: top;\n",
              "    }\n",
              "\n",
              "    .dataframe thead th {\n",
              "        text-align: right;\n",
              "    }\n",
              "</style>\n",
              "<table border=\"1\" class=\"dataframe\">\n",
              "  <thead>\n",
              "    <tr style=\"text-align: right;\">\n",
              "      <th></th>\n",
              "      <th>Unnamed: 0</th>\n",
              "      <th>Order ID</th>\n",
              "      <th>Product</th>\n",
              "      <th>Quantity Ordered</th>\n",
              "      <th>Price Each</th>\n",
              "      <th>Order Date</th>\n",
              "      <th>Purchase Address</th>\n",
              "      <th>Month</th>\n",
              "      <th>Sales</th>\n",
              "      <th>City</th>\n",
              "      <th>Hour</th>\n",
              "    </tr>\n",
              "  </thead>\n",
              "  <tbody>\n",
              "    <tr>\n",
              "      <th>0</th>\n",
              "      <td>0</td>\n",
              "      <td>295665</td>\n",
              "      <td>Macbook Pro Laptop</td>\n",
              "      <td>1</td>\n",
              "      <td>1700.00</td>\n",
              "      <td>2019-12-30 00:01:00</td>\n",
              "      <td>136 Church St, New York City, NY 10001</td>\n",
              "      <td>12</td>\n",
              "      <td>1700.00</td>\n",
              "      <td>New York City</td>\n",
              "      <td>0</td>\n",
              "    </tr>\n",
              "    <tr>\n",
              "      <th>1</th>\n",
              "      <td>1</td>\n",
              "      <td>295666</td>\n",
              "      <td>LG Washing Machine</td>\n",
              "      <td>1</td>\n",
              "      <td>600.00</td>\n",
              "      <td>2019-12-29 07:03:00</td>\n",
              "      <td>562 2nd St, New York City, NY 10001</td>\n",
              "      <td>12</td>\n",
              "      <td>600.00</td>\n",
              "      <td>New York City</td>\n",
              "      <td>7</td>\n",
              "    </tr>\n",
              "    <tr>\n",
              "      <th>2</th>\n",
              "      <td>2</td>\n",
              "      <td>295667</td>\n",
              "      <td>USB-C Charging Cable</td>\n",
              "      <td>1</td>\n",
              "      <td>11.95</td>\n",
              "      <td>2019-12-12 18:21:00</td>\n",
              "      <td>277 Main St, New York City, NY 10001</td>\n",
              "      <td>12</td>\n",
              "      <td>11.95</td>\n",
              "      <td>New York City</td>\n",
              "      <td>18</td>\n",
              "    </tr>\n",
              "    <tr>\n",
              "      <th>3</th>\n",
              "      <td>3</td>\n",
              "      <td>295668</td>\n",
              "      <td>27in FHD Monitor</td>\n",
              "      <td>1</td>\n",
              "      <td>149.99</td>\n",
              "      <td>2019-12-22 15:13:00</td>\n",
              "      <td>410 6th St, San Francisco, CA 94016</td>\n",
              "      <td>12</td>\n",
              "      <td>149.99</td>\n",
              "      <td>San Francisco</td>\n",
              "      <td>15</td>\n",
              "    </tr>\n",
              "    <tr>\n",
              "      <th>4</th>\n",
              "      <td>4</td>\n",
              "      <td>295669</td>\n",
              "      <td>USB-C Charging Cable</td>\n",
              "      <td>1</td>\n",
              "      <td>11.95</td>\n",
              "      <td>2019-12-18 12:38:00</td>\n",
              "      <td>43 Hill St, Atlanta, GA 30301</td>\n",
              "      <td>12</td>\n",
              "      <td>11.95</td>\n",
              "      <td>Atlanta</td>\n",
              "      <td>12</td>\n",
              "    </tr>\n",
              "  </tbody>\n",
              "</table>\n",
              "</div>\n",
              "    <div class=\"colab-df-buttons\">\n",
              "\n",
              "  <div class=\"colab-df-container\">\n",
              "    <button class=\"colab-df-convert\" onclick=\"convertToInteractive('df-9fab20d4-c5d4-41c6-8fef-54526575b9d9')\"\n",
              "            title=\"Convert this dataframe to an interactive table.\"\n",
              "            style=\"display:none;\">\n",
              "\n",
              "  <svg xmlns=\"http://www.w3.org/2000/svg\" height=\"24px\" viewBox=\"0 -960 960 960\">\n",
              "    <path d=\"M120-120v-720h720v720H120Zm60-500h600v-160H180v160Zm220 220h160v-160H400v160Zm0 220h160v-160H400v160ZM180-400h160v-160H180v160Zm440 0h160v-160H620v160ZM180-180h160v-160H180v160Zm440 0h160v-160H620v160Z\"/>\n",
              "  </svg>\n",
              "    </button>\n",
              "\n",
              "  <style>\n",
              "    .colab-df-container {\n",
              "      display:flex;\n",
              "      gap: 12px;\n",
              "    }\n",
              "\n",
              "    .colab-df-convert {\n",
              "      background-color: #E8F0FE;\n",
              "      border: none;\n",
              "      border-radius: 50%;\n",
              "      cursor: pointer;\n",
              "      display: none;\n",
              "      fill: #1967D2;\n",
              "      height: 32px;\n",
              "      padding: 0 0 0 0;\n",
              "      width: 32px;\n",
              "    }\n",
              "\n",
              "    .colab-df-convert:hover {\n",
              "      background-color: #E2EBFA;\n",
              "      box-shadow: 0px 1px 2px rgba(60, 64, 67, 0.3), 0px 1px 3px 1px rgba(60, 64, 67, 0.15);\n",
              "      fill: #174EA6;\n",
              "    }\n",
              "\n",
              "    .colab-df-buttons div {\n",
              "      margin-bottom: 4px;\n",
              "    }\n",
              "\n",
              "    [theme=dark] .colab-df-convert {\n",
              "      background-color: #3B4455;\n",
              "      fill: #D2E3FC;\n",
              "    }\n",
              "\n",
              "    [theme=dark] .colab-df-convert:hover {\n",
              "      background-color: #434B5C;\n",
              "      box-shadow: 0px 1px 3px 1px rgba(0, 0, 0, 0.15);\n",
              "      filter: drop-shadow(0px 1px 2px rgba(0, 0, 0, 0.3));\n",
              "      fill: #FFFFFF;\n",
              "    }\n",
              "  </style>\n",
              "\n",
              "    <script>\n",
              "      const buttonEl =\n",
              "        document.querySelector('#df-9fab20d4-c5d4-41c6-8fef-54526575b9d9 button.colab-df-convert');\n",
              "      buttonEl.style.display =\n",
              "        google.colab.kernel.accessAllowed ? 'block' : 'none';\n",
              "\n",
              "      async function convertToInteractive(key) {\n",
              "        const element = document.querySelector('#df-9fab20d4-c5d4-41c6-8fef-54526575b9d9');\n",
              "        const dataTable =\n",
              "          await google.colab.kernel.invokeFunction('convertToInteractive',\n",
              "                                                    [key], {});\n",
              "        if (!dataTable) return;\n",
              "\n",
              "        const docLinkHtml = 'Like what you see? Visit the ' +\n",
              "          '<a target=\"_blank\" href=https://colab.research.google.com/notebooks/data_table.ipynb>data table notebook</a>'\n",
              "          + ' to learn more about interactive tables.';\n",
              "        element.innerHTML = '';\n",
              "        dataTable['output_type'] = 'display_data';\n",
              "        await google.colab.output.renderOutput(dataTable, element);\n",
              "        const docLink = document.createElement('div');\n",
              "        docLink.innerHTML = docLinkHtml;\n",
              "        element.appendChild(docLink);\n",
              "      }\n",
              "    </script>\n",
              "  </div>\n",
              "\n",
              "\n",
              "<div id=\"df-369c4601-494d-40ef-a377-d5dba3cf1fc3\">\n",
              "  <button class=\"colab-df-quickchart\" onclick=\"quickchart('df-369c4601-494d-40ef-a377-d5dba3cf1fc3')\"\n",
              "            title=\"Suggest charts\"\n",
              "            style=\"display:none;\">\n",
              "\n",
              "<svg xmlns=\"http://www.w3.org/2000/svg\" height=\"24px\"viewBox=\"0 0 24 24\"\n",
              "     width=\"24px\">\n",
              "    <g>\n",
              "        <path d=\"M19 3H5c-1.1 0-2 .9-2 2v14c0 1.1.9 2 2 2h14c1.1 0 2-.9 2-2V5c0-1.1-.9-2-2-2zM9 17H7v-7h2v7zm4 0h-2V7h2v10zm4 0h-2v-4h2v4z\"/>\n",
              "    </g>\n",
              "</svg>\n",
              "  </button>\n",
              "\n",
              "<style>\n",
              "  .colab-df-quickchart {\n",
              "      --bg-color: #E8F0FE;\n",
              "      --fill-color: #1967D2;\n",
              "      --hover-bg-color: #E2EBFA;\n",
              "      --hover-fill-color: #174EA6;\n",
              "      --disabled-fill-color: #AAA;\n",
              "      --disabled-bg-color: #DDD;\n",
              "  }\n",
              "\n",
              "  [theme=dark] .colab-df-quickchart {\n",
              "      --bg-color: #3B4455;\n",
              "      --fill-color: #D2E3FC;\n",
              "      --hover-bg-color: #434B5C;\n",
              "      --hover-fill-color: #FFFFFF;\n",
              "      --disabled-bg-color: #3B4455;\n",
              "      --disabled-fill-color: #666;\n",
              "  }\n",
              "\n",
              "  .colab-df-quickchart {\n",
              "    background-color: var(--bg-color);\n",
              "    border: none;\n",
              "    border-radius: 50%;\n",
              "    cursor: pointer;\n",
              "    display: none;\n",
              "    fill: var(--fill-color);\n",
              "    height: 32px;\n",
              "    padding: 0;\n",
              "    width: 32px;\n",
              "  }\n",
              "\n",
              "  .colab-df-quickchart:hover {\n",
              "    background-color: var(--hover-bg-color);\n",
              "    box-shadow: 0 1px 2px rgba(60, 64, 67, 0.3), 0 1px 3px 1px rgba(60, 64, 67, 0.15);\n",
              "    fill: var(--button-hover-fill-color);\n",
              "  }\n",
              "\n",
              "  .colab-df-quickchart-complete:disabled,\n",
              "  .colab-df-quickchart-complete:disabled:hover {\n",
              "    background-color: var(--disabled-bg-color);\n",
              "    fill: var(--disabled-fill-color);\n",
              "    box-shadow: none;\n",
              "  }\n",
              "\n",
              "  .colab-df-spinner {\n",
              "    border: 2px solid var(--fill-color);\n",
              "    border-color: transparent;\n",
              "    border-bottom-color: var(--fill-color);\n",
              "    animation:\n",
              "      spin 1s steps(1) infinite;\n",
              "  }\n",
              "\n",
              "  @keyframes spin {\n",
              "    0% {\n",
              "      border-color: transparent;\n",
              "      border-bottom-color: var(--fill-color);\n",
              "      border-left-color: var(--fill-color);\n",
              "    }\n",
              "    20% {\n",
              "      border-color: transparent;\n",
              "      border-left-color: var(--fill-color);\n",
              "      border-top-color: var(--fill-color);\n",
              "    }\n",
              "    30% {\n",
              "      border-color: transparent;\n",
              "      border-left-color: var(--fill-color);\n",
              "      border-top-color: var(--fill-color);\n",
              "      border-right-color: var(--fill-color);\n",
              "    }\n",
              "    40% {\n",
              "      border-color: transparent;\n",
              "      border-right-color: var(--fill-color);\n",
              "      border-top-color: var(--fill-color);\n",
              "    }\n",
              "    60% {\n",
              "      border-color: transparent;\n",
              "      border-right-color: var(--fill-color);\n",
              "    }\n",
              "    80% {\n",
              "      border-color: transparent;\n",
              "      border-right-color: var(--fill-color);\n",
              "      border-bottom-color: var(--fill-color);\n",
              "    }\n",
              "    90% {\n",
              "      border-color: transparent;\n",
              "      border-bottom-color: var(--fill-color);\n",
              "    }\n",
              "  }\n",
              "</style>\n",
              "\n",
              "  <script>\n",
              "    async function quickchart(key) {\n",
              "      const quickchartButtonEl =\n",
              "        document.querySelector('#' + key + ' button');\n",
              "      quickchartButtonEl.disabled = true;  // To prevent multiple clicks.\n",
              "      quickchartButtonEl.classList.add('colab-df-spinner');\n",
              "      try {\n",
              "        const charts = await google.colab.kernel.invokeFunction(\n",
              "            'suggestCharts', [key], {});\n",
              "      } catch (error) {\n",
              "        console.error('Error during call to suggestCharts:', error);\n",
              "      }\n",
              "      quickchartButtonEl.classList.remove('colab-df-spinner');\n",
              "      quickchartButtonEl.classList.add('colab-df-quickchart-complete');\n",
              "    }\n",
              "    (() => {\n",
              "      let quickchartButtonEl =\n",
              "        document.querySelector('#df-369c4601-494d-40ef-a377-d5dba3cf1fc3 button');\n",
              "      quickchartButtonEl.style.display =\n",
              "        google.colab.kernel.accessAllowed ? 'block' : 'none';\n",
              "    })();\n",
              "  </script>\n",
              "</div>\n",
              "\n",
              "    </div>\n",
              "  </div>\n"
            ]
          },
          "metadata": {},
          "execution_count": 2
        }
      ]
    },
    {
      "cell_type": "markdown",
      "source": [
        "Data Cleaning and Formatting"
      ],
      "metadata": {
        "id": "poHt7QbpVK4Q"
      }
    },
    {
      "cell_type": "code",
      "source": [
        "all_data.dtypes"
      ],
      "metadata": {
        "colab": {
          "base_uri": "https://localhost:8080/"
        },
        "id": "ZOMSxF2VVEKW",
        "outputId": "1377ca8c-a4e7-4eb0-edfd-418a22561d5a"
      },
      "execution_count": 3,
      "outputs": [
        {
          "output_type": "execute_result",
          "data": {
            "text/plain": [
              "Unnamed: 0            int64\n",
              "Order ID              int64\n",
              "Product              object\n",
              "Quantity Ordered      int64\n",
              "Price Each          float64\n",
              "Order Date           object\n",
              "Purchase Address     object\n",
              "Month                 int64\n",
              "Sales               float64\n",
              "City                 object\n",
              "Hour                  int64\n",
              "dtype: object"
            ]
          },
          "metadata": {},
          "execution_count": 3
        }
      ]
    },
    {
      "cell_type": "code",
      "source": [
        "all_data.isnull().sum()"
      ],
      "metadata": {
        "colab": {
          "base_uri": "https://localhost:8080/"
        },
        "id": "l_zb87YxVSOx",
        "outputId": "ca4cd84b-263c-4ff6-fc6d-ca3557a9e405"
      },
      "execution_count": 4,
      "outputs": [
        {
          "output_type": "execute_result",
          "data": {
            "text/plain": [
              "Unnamed: 0          0\n",
              "Order ID            0\n",
              "Product             0\n",
              "Quantity Ordered    0\n",
              "Price Each          0\n",
              "Order Date          0\n",
              "Purchase Address    0\n",
              "Month               0\n",
              "Sales               0\n",
              "City                0\n",
              "Hour                0\n",
              "dtype: int64"
            ]
          },
          "metadata": {},
          "execution_count": 4
        }
      ]
    },
    {
      "cell_type": "code",
      "source": [
        "all_data = all_data.dropna(how = 'all')\n",
        "all_data.shape"
      ],
      "metadata": {
        "colab": {
          "base_uri": "https://localhost:8080/"
        },
        "id": "z3zTWceKVbLh",
        "outputId": "35ebe05d-f083-48e8-85a7-97255474e0bf"
      },
      "execution_count": 5,
      "outputs": [
        {
          "output_type": "execute_result",
          "data": {
            "text/plain": [
              "(185950, 11)"
            ]
          },
          "metadata": {},
          "execution_count": 5
        }
      ]
    },
    {
      "cell_type": "markdown",
      "source": [
        "What is the best month for sale?"
      ],
      "metadata": {
        "id": "sBjltMgbVzNm"
      }
    },
    {
      "cell_type": "code",
      "source": [
        "'04/19/19 08.46'.split('/')[0]"
      ],
      "metadata": {
        "colab": {
          "base_uri": "https://localhost:8080/",
          "height": 36
        },
        "id": "k4DMywTvVsps",
        "outputId": "2d812e2c-c2eb-4381-d291-973993e44053"
      },
      "execution_count": 7,
      "outputs": [
        {
          "output_type": "execute_result",
          "data": {
            "text/plain": [
              "'04'"
            ],
            "application/vnd.google.colaboratory.intrinsic+json": {
              "type": "string"
            }
          },
          "metadata": {},
          "execution_count": 7
        }
      ]
    },
    {
      "cell_type": "code",
      "source": [
        "def month(x):\n",
        "  return x.split('/')[0]"
      ],
      "metadata": {
        "id": "2vMqGxEPWCiv"
      },
      "execution_count": 9,
      "outputs": []
    },
    {
      "cell_type": "markdown",
      "source": [
        "Add month column"
      ],
      "metadata": {
        "id": "TYXJOlehWNv0"
      }
    },
    {
      "cell_type": "code",
      "source": [
        "all_data['Month'] = all_data['Order Date'].apply(month)"
      ],
      "metadata": {
        "id": "ly3BBAVBWLWi"
      },
      "execution_count": 10,
      "outputs": []
    },
    {
      "cell_type": "code",
      "source": [
        "all_data.dtypes"
      ],
      "metadata": {
        "colab": {
          "base_uri": "https://localhost:8080/"
        },
        "id": "iUvo5eiUWZ3k",
        "outputId": "02d258be-86dd-4ee1-e505-c5b1b4e0bc1a"
      },
      "execution_count": 12,
      "outputs": [
        {
          "output_type": "execute_result",
          "data": {
            "text/plain": [
              "Unnamed: 0            int64\n",
              "Order ID              int64\n",
              "Product              object\n",
              "Quantity Ordered      int64\n",
              "Price Each          float64\n",
              "Order Date           object\n",
              "Purchase Address     object\n",
              "Month                object\n",
              "Sales               float64\n",
              "City                 object\n",
              "Hour                  int64\n",
              "dtype: object"
            ]
          },
          "metadata": {},
          "execution_count": 12
        }
      ]
    },
    {
      "cell_type": "code",
      "source": [
        "all_data['Month'].unique()"
      ],
      "metadata": {
        "colab": {
          "base_uri": "https://localhost:8080/"
        },
        "id": "4OCnazIFWclr",
        "outputId": "c3dade30-c2a7-45d2-e26e-3db73278dd24"
      },
      "execution_count": 11,
      "outputs": [
        {
          "output_type": "execute_result",
          "data": {
            "text/plain": [
              "array(['2019-12-30 00:01:00', '2019-12-29 07:03:00',\n",
              "       '2019-12-12 18:21:00', ..., '2019-06-09 22:07:00',\n",
              "       '2019-06-26 18:35:00', '2019-06-25 14:33:00'], dtype=object)"
            ]
          },
          "metadata": {},
          "execution_count": 11
        }
      ]
    },
    {
      "cell_type": "code",
      "source": [
        "filter = all_data['Month'] == 'Order Date'\n",
        "len(all_data[~filter])"
      ],
      "metadata": {
        "colab": {
          "base_uri": "https://localhost:8080/"
        },
        "id": "AzpDam7SWkVO",
        "outputId": "9b43cef3-b1ab-42c8-a807-cf96e376cf66"
      },
      "execution_count": 13,
      "outputs": [
        {
          "output_type": "execute_result",
          "data": {
            "text/plain": [
              "185950"
            ]
          },
          "metadata": {},
          "execution_count": 13
        }
      ]
    },
    {
      "cell_type": "code",
      "source": [
        "all_data = all_data[~filter]"
      ],
      "metadata": {
        "id": "BjZfjuvcW2dr"
      },
      "execution_count": 14,
      "outputs": []
    },
    {
      "cell_type": "code",
      "source": [
        "all_data.shape"
      ],
      "metadata": {
        "colab": {
          "base_uri": "https://localhost:8080/"
        },
        "id": "QDz7R5BcW7kg",
        "outputId": "723d2896-da85-4455-8fde-94d5e51cadca"
      },
      "execution_count": 15,
      "outputs": [
        {
          "output_type": "execute_result",
          "data": {
            "text/plain": [
              "(185950, 11)"
            ]
          },
          "metadata": {},
          "execution_count": 15
        }
      ]
    },
    {
      "cell_type": "code",
      "source": [
        "all_data.head()"
      ],
      "metadata": {
        "colab": {
          "base_uri": "https://localhost:8080/",
          "height": 310
        },
        "id": "FzXX1VfNW-5l",
        "outputId": "6ca9440e-2834-4b3b-f743-7b9fe4c71847"
      },
      "execution_count": 16,
      "outputs": [
        {
          "output_type": "execute_result",
          "data": {
            "text/plain": [
              "   Unnamed: 0  Order ID               Product  Quantity Ordered  Price Each  \\\n",
              "0           0    295665    Macbook Pro Laptop                 1     1700.00   \n",
              "1           1    295666    LG Washing Machine                 1      600.00   \n",
              "2           2    295667  USB-C Charging Cable                 1       11.95   \n",
              "3           3    295668      27in FHD Monitor                 1      149.99   \n",
              "4           4    295669  USB-C Charging Cable                 1       11.95   \n",
              "\n",
              "            Order Date                        Purchase Address  \\\n",
              "0  2019-12-30 00:01:00  136 Church St, New York City, NY 10001   \n",
              "1  2019-12-29 07:03:00     562 2nd St, New York City, NY 10001   \n",
              "2  2019-12-12 18:21:00    277 Main St, New York City, NY 10001   \n",
              "3  2019-12-22 15:13:00     410 6th St, San Francisco, CA 94016   \n",
              "4  2019-12-18 12:38:00           43 Hill St, Atlanta, GA 30301   \n",
              "\n",
              "                 Month    Sales            City  Hour  \n",
              "0  2019-12-30 00:01:00  1700.00   New York City     0  \n",
              "1  2019-12-29 07:03:00   600.00   New York City     7  \n",
              "2  2019-12-12 18:21:00    11.95   New York City    18  \n",
              "3  2019-12-22 15:13:00   149.99   San Francisco    15  \n",
              "4  2019-12-18 12:38:00    11.95         Atlanta    12  "
            ],
            "text/html": [
              "\n",
              "  <div id=\"df-0b3d8b59-fd01-4fc5-a346-096eee953443\" class=\"colab-df-container\">\n",
              "    <div>\n",
              "<style scoped>\n",
              "    .dataframe tbody tr th:only-of-type {\n",
              "        vertical-align: middle;\n",
              "    }\n",
              "\n",
              "    .dataframe tbody tr th {\n",
              "        vertical-align: top;\n",
              "    }\n",
              "\n",
              "    .dataframe thead th {\n",
              "        text-align: right;\n",
              "    }\n",
              "</style>\n",
              "<table border=\"1\" class=\"dataframe\">\n",
              "  <thead>\n",
              "    <tr style=\"text-align: right;\">\n",
              "      <th></th>\n",
              "      <th>Unnamed: 0</th>\n",
              "      <th>Order ID</th>\n",
              "      <th>Product</th>\n",
              "      <th>Quantity Ordered</th>\n",
              "      <th>Price Each</th>\n",
              "      <th>Order Date</th>\n",
              "      <th>Purchase Address</th>\n",
              "      <th>Month</th>\n",
              "      <th>Sales</th>\n",
              "      <th>City</th>\n",
              "      <th>Hour</th>\n",
              "    </tr>\n",
              "  </thead>\n",
              "  <tbody>\n",
              "    <tr>\n",
              "      <th>0</th>\n",
              "      <td>0</td>\n",
              "      <td>295665</td>\n",
              "      <td>Macbook Pro Laptop</td>\n",
              "      <td>1</td>\n",
              "      <td>1700.00</td>\n",
              "      <td>2019-12-30 00:01:00</td>\n",
              "      <td>136 Church St, New York City, NY 10001</td>\n",
              "      <td>2019-12-30 00:01:00</td>\n",
              "      <td>1700.00</td>\n",
              "      <td>New York City</td>\n",
              "      <td>0</td>\n",
              "    </tr>\n",
              "    <tr>\n",
              "      <th>1</th>\n",
              "      <td>1</td>\n",
              "      <td>295666</td>\n",
              "      <td>LG Washing Machine</td>\n",
              "      <td>1</td>\n",
              "      <td>600.00</td>\n",
              "      <td>2019-12-29 07:03:00</td>\n",
              "      <td>562 2nd St, New York City, NY 10001</td>\n",
              "      <td>2019-12-29 07:03:00</td>\n",
              "      <td>600.00</td>\n",
              "      <td>New York City</td>\n",
              "      <td>7</td>\n",
              "    </tr>\n",
              "    <tr>\n",
              "      <th>2</th>\n",
              "      <td>2</td>\n",
              "      <td>295667</td>\n",
              "      <td>USB-C Charging Cable</td>\n",
              "      <td>1</td>\n",
              "      <td>11.95</td>\n",
              "      <td>2019-12-12 18:21:00</td>\n",
              "      <td>277 Main St, New York City, NY 10001</td>\n",
              "      <td>2019-12-12 18:21:00</td>\n",
              "      <td>11.95</td>\n",
              "      <td>New York City</td>\n",
              "      <td>18</td>\n",
              "    </tr>\n",
              "    <tr>\n",
              "      <th>3</th>\n",
              "      <td>3</td>\n",
              "      <td>295668</td>\n",
              "      <td>27in FHD Monitor</td>\n",
              "      <td>1</td>\n",
              "      <td>149.99</td>\n",
              "      <td>2019-12-22 15:13:00</td>\n",
              "      <td>410 6th St, San Francisco, CA 94016</td>\n",
              "      <td>2019-12-22 15:13:00</td>\n",
              "      <td>149.99</td>\n",
              "      <td>San Francisco</td>\n",
              "      <td>15</td>\n",
              "    </tr>\n",
              "    <tr>\n",
              "      <th>4</th>\n",
              "      <td>4</td>\n",
              "      <td>295669</td>\n",
              "      <td>USB-C Charging Cable</td>\n",
              "      <td>1</td>\n",
              "      <td>11.95</td>\n",
              "      <td>2019-12-18 12:38:00</td>\n",
              "      <td>43 Hill St, Atlanta, GA 30301</td>\n",
              "      <td>2019-12-18 12:38:00</td>\n",
              "      <td>11.95</td>\n",
              "      <td>Atlanta</td>\n",
              "      <td>12</td>\n",
              "    </tr>\n",
              "  </tbody>\n",
              "</table>\n",
              "</div>\n",
              "    <div class=\"colab-df-buttons\">\n",
              "\n",
              "  <div class=\"colab-df-container\">\n",
              "    <button class=\"colab-df-convert\" onclick=\"convertToInteractive('df-0b3d8b59-fd01-4fc5-a346-096eee953443')\"\n",
              "            title=\"Convert this dataframe to an interactive table.\"\n",
              "            style=\"display:none;\">\n",
              "\n",
              "  <svg xmlns=\"http://www.w3.org/2000/svg\" height=\"24px\" viewBox=\"0 -960 960 960\">\n",
              "    <path d=\"M120-120v-720h720v720H120Zm60-500h600v-160H180v160Zm220 220h160v-160H400v160Zm0 220h160v-160H400v160ZM180-400h160v-160H180v160Zm440 0h160v-160H620v160ZM180-180h160v-160H180v160Zm440 0h160v-160H620v160Z\"/>\n",
              "  </svg>\n",
              "    </button>\n",
              "\n",
              "  <style>\n",
              "    .colab-df-container {\n",
              "      display:flex;\n",
              "      gap: 12px;\n",
              "    }\n",
              "\n",
              "    .colab-df-convert {\n",
              "      background-color: #E8F0FE;\n",
              "      border: none;\n",
              "      border-radius: 50%;\n",
              "      cursor: pointer;\n",
              "      display: none;\n",
              "      fill: #1967D2;\n",
              "      height: 32px;\n",
              "      padding: 0 0 0 0;\n",
              "      width: 32px;\n",
              "    }\n",
              "\n",
              "    .colab-df-convert:hover {\n",
              "      background-color: #E2EBFA;\n",
              "      box-shadow: 0px 1px 2px rgba(60, 64, 67, 0.3), 0px 1px 3px 1px rgba(60, 64, 67, 0.15);\n",
              "      fill: #174EA6;\n",
              "    }\n",
              "\n",
              "    .colab-df-buttons div {\n",
              "      margin-bottom: 4px;\n",
              "    }\n",
              "\n",
              "    [theme=dark] .colab-df-convert {\n",
              "      background-color: #3B4455;\n",
              "      fill: #D2E3FC;\n",
              "    }\n",
              "\n",
              "    [theme=dark] .colab-df-convert:hover {\n",
              "      background-color: #434B5C;\n",
              "      box-shadow: 0px 1px 3px 1px rgba(0, 0, 0, 0.15);\n",
              "      filter: drop-shadow(0px 1px 2px rgba(0, 0, 0, 0.3));\n",
              "      fill: #FFFFFF;\n",
              "    }\n",
              "  </style>\n",
              "\n",
              "    <script>\n",
              "      const buttonEl =\n",
              "        document.querySelector('#df-0b3d8b59-fd01-4fc5-a346-096eee953443 button.colab-df-convert');\n",
              "      buttonEl.style.display =\n",
              "        google.colab.kernel.accessAllowed ? 'block' : 'none';\n",
              "\n",
              "      async function convertToInteractive(key) {\n",
              "        const element = document.querySelector('#df-0b3d8b59-fd01-4fc5-a346-096eee953443');\n",
              "        const dataTable =\n",
              "          await google.colab.kernel.invokeFunction('convertToInteractive',\n",
              "                                                    [key], {});\n",
              "        if (!dataTable) return;\n",
              "\n",
              "        const docLinkHtml = 'Like what you see? Visit the ' +\n",
              "          '<a target=\"_blank\" href=https://colab.research.google.com/notebooks/data_table.ipynb>data table notebook</a>'\n",
              "          + ' to learn more about interactive tables.';\n",
              "        element.innerHTML = '';\n",
              "        dataTable['output_type'] = 'display_data';\n",
              "        await google.colab.output.renderOutput(dataTable, element);\n",
              "        const docLink = document.createElement('div');\n",
              "        docLink.innerHTML = docLinkHtml;\n",
              "        element.appendChild(docLink);\n",
              "      }\n",
              "    </script>\n",
              "  </div>\n",
              "\n",
              "\n",
              "<div id=\"df-e1b87e20-c575-4e44-990f-59a6ad95fa81\">\n",
              "  <button class=\"colab-df-quickchart\" onclick=\"quickchart('df-e1b87e20-c575-4e44-990f-59a6ad95fa81')\"\n",
              "            title=\"Suggest charts\"\n",
              "            style=\"display:none;\">\n",
              "\n",
              "<svg xmlns=\"http://www.w3.org/2000/svg\" height=\"24px\"viewBox=\"0 0 24 24\"\n",
              "     width=\"24px\">\n",
              "    <g>\n",
              "        <path d=\"M19 3H5c-1.1 0-2 .9-2 2v14c0 1.1.9 2 2 2h14c1.1 0 2-.9 2-2V5c0-1.1-.9-2-2-2zM9 17H7v-7h2v7zm4 0h-2V7h2v10zm4 0h-2v-4h2v4z\"/>\n",
              "    </g>\n",
              "</svg>\n",
              "  </button>\n",
              "\n",
              "<style>\n",
              "  .colab-df-quickchart {\n",
              "      --bg-color: #E8F0FE;\n",
              "      --fill-color: #1967D2;\n",
              "      --hover-bg-color: #E2EBFA;\n",
              "      --hover-fill-color: #174EA6;\n",
              "      --disabled-fill-color: #AAA;\n",
              "      --disabled-bg-color: #DDD;\n",
              "  }\n",
              "\n",
              "  [theme=dark] .colab-df-quickchart {\n",
              "      --bg-color: #3B4455;\n",
              "      --fill-color: #D2E3FC;\n",
              "      --hover-bg-color: #434B5C;\n",
              "      --hover-fill-color: #FFFFFF;\n",
              "      --disabled-bg-color: #3B4455;\n",
              "      --disabled-fill-color: #666;\n",
              "  }\n",
              "\n",
              "  .colab-df-quickchart {\n",
              "    background-color: var(--bg-color);\n",
              "    border: none;\n",
              "    border-radius: 50%;\n",
              "    cursor: pointer;\n",
              "    display: none;\n",
              "    fill: var(--fill-color);\n",
              "    height: 32px;\n",
              "    padding: 0;\n",
              "    width: 32px;\n",
              "  }\n",
              "\n",
              "  .colab-df-quickchart:hover {\n",
              "    background-color: var(--hover-bg-color);\n",
              "    box-shadow: 0 1px 2px rgba(60, 64, 67, 0.3), 0 1px 3px 1px rgba(60, 64, 67, 0.15);\n",
              "    fill: var(--button-hover-fill-color);\n",
              "  }\n",
              "\n",
              "  .colab-df-quickchart-complete:disabled,\n",
              "  .colab-df-quickchart-complete:disabled:hover {\n",
              "    background-color: var(--disabled-bg-color);\n",
              "    fill: var(--disabled-fill-color);\n",
              "    box-shadow: none;\n",
              "  }\n",
              "\n",
              "  .colab-df-spinner {\n",
              "    border: 2px solid var(--fill-color);\n",
              "    border-color: transparent;\n",
              "    border-bottom-color: var(--fill-color);\n",
              "    animation:\n",
              "      spin 1s steps(1) infinite;\n",
              "  }\n",
              "\n",
              "  @keyframes spin {\n",
              "    0% {\n",
              "      border-color: transparent;\n",
              "      border-bottom-color: var(--fill-color);\n",
              "      border-left-color: var(--fill-color);\n",
              "    }\n",
              "    20% {\n",
              "      border-color: transparent;\n",
              "      border-left-color: var(--fill-color);\n",
              "      border-top-color: var(--fill-color);\n",
              "    }\n",
              "    30% {\n",
              "      border-color: transparent;\n",
              "      border-left-color: var(--fill-color);\n",
              "      border-top-color: var(--fill-color);\n",
              "      border-right-color: var(--fill-color);\n",
              "    }\n",
              "    40% {\n",
              "      border-color: transparent;\n",
              "      border-right-color: var(--fill-color);\n",
              "      border-top-color: var(--fill-color);\n",
              "    }\n",
              "    60% {\n",
              "      border-color: transparent;\n",
              "      border-right-color: var(--fill-color);\n",
              "    }\n",
              "    80% {\n",
              "      border-color: transparent;\n",
              "      border-right-color: var(--fill-color);\n",
              "      border-bottom-color: var(--fill-color);\n",
              "    }\n",
              "    90% {\n",
              "      border-color: transparent;\n",
              "      border-bottom-color: var(--fill-color);\n",
              "    }\n",
              "  }\n",
              "</style>\n",
              "\n",
              "  <script>\n",
              "    async function quickchart(key) {\n",
              "      const quickchartButtonEl =\n",
              "        document.querySelector('#' + key + ' button');\n",
              "      quickchartButtonEl.disabled = true;  // To prevent multiple clicks.\n",
              "      quickchartButtonEl.classList.add('colab-df-spinner');\n",
              "      try {\n",
              "        const charts = await google.colab.kernel.invokeFunction(\n",
              "            'suggestCharts', [key], {});\n",
              "      } catch (error) {\n",
              "        console.error('Error during call to suggestCharts:', error);\n",
              "      }\n",
              "      quickchartButtonEl.classList.remove('colab-df-spinner');\n",
              "      quickchartButtonEl.classList.add('colab-df-quickchart-complete');\n",
              "    }\n",
              "    (() => {\n",
              "      let quickchartButtonEl =\n",
              "        document.querySelector('#df-e1b87e20-c575-4e44-990f-59a6ad95fa81 button');\n",
              "      quickchartButtonEl.style.display =\n",
              "        google.colab.kernel.accessAllowed ? 'block' : 'none';\n",
              "    })();\n",
              "  </script>\n",
              "</div>\n",
              "\n",
              "    </div>\n",
              "  </div>\n"
            ]
          },
          "metadata": {},
          "execution_count": 16
        }
      ]
    },
    {
      "cell_type": "code",
      "source": [
        "all_data['Month']"
      ],
      "metadata": {
        "colab": {
          "base_uri": "https://localhost:8080/"
        },
        "id": "n77ZuGdWXCq1",
        "outputId": "0b4bdcff-fd79-45ca-db7b-c67c27d4c365"
      },
      "execution_count": 17,
      "outputs": [
        {
          "output_type": "execute_result",
          "data": {
            "text/plain": [
              "0         2019-12-30 00:01:00\n",
              "1         2019-12-29 07:03:00\n",
              "2         2019-12-12 18:21:00\n",
              "3         2019-12-22 15:13:00\n",
              "4         2019-12-18 12:38:00\n",
              "                 ...         \n",
              "185945    2019-06-07 19:02:00\n",
              "185946    2019-06-01 19:29:00\n",
              "185947    2019-06-22 18:57:00\n",
              "185948    2019-06-26 18:35:00\n",
              "185949    2019-06-25 14:33:00\n",
              "Name: Month, Length: 185950, dtype: object"
            ]
          },
          "metadata": {},
          "execution_count": 17
        }
      ]
    },
    {
      "cell_type": "code",
      "source": [
        "all_data['Price Each'] = all_data['Price Each'].astype(float)"
      ],
      "metadata": {
        "id": "JFDW4Ab5XGd_"
      },
      "execution_count": 18,
      "outputs": []
    },
    {
      "cell_type": "code",
      "source": [
        "all_data['Quantity Ordered'] = all_data['Quantity Ordered'].astype(int)"
      ],
      "metadata": {
        "id": "DlmMF2_-XqXP"
      },
      "execution_count": 19,
      "outputs": []
    },
    {
      "cell_type": "code",
      "source": [
        "all_data['sales'] = all_data['Quantity Ordered']*all_data['Price Each']"
      ],
      "metadata": {
        "id": "wf1lJM3tXzWQ"
      },
      "execution_count": 20,
      "outputs": []
    },
    {
      "cell_type": "code",
      "source": [
        "all_data.head(5)"
      ],
      "metadata": {
        "colab": {
          "base_uri": "https://localhost:8080/",
          "height": 345
        },
        "id": "_MgJu1WUX-cy",
        "outputId": "060faea0-fc70-4bba-e073-95e24f5b475e"
      },
      "execution_count": 21,
      "outputs": [
        {
          "output_type": "execute_result",
          "data": {
            "text/plain": [
              "   Unnamed: 0  Order ID               Product  Quantity Ordered  Price Each  \\\n",
              "0           0    295665    Macbook Pro Laptop                 1     1700.00   \n",
              "1           1    295666    LG Washing Machine                 1      600.00   \n",
              "2           2    295667  USB-C Charging Cable                 1       11.95   \n",
              "3           3    295668      27in FHD Monitor                 1      149.99   \n",
              "4           4    295669  USB-C Charging Cable                 1       11.95   \n",
              "\n",
              "            Order Date                        Purchase Address  \\\n",
              "0  2019-12-30 00:01:00  136 Church St, New York City, NY 10001   \n",
              "1  2019-12-29 07:03:00     562 2nd St, New York City, NY 10001   \n",
              "2  2019-12-12 18:21:00    277 Main St, New York City, NY 10001   \n",
              "3  2019-12-22 15:13:00     410 6th St, San Francisco, CA 94016   \n",
              "4  2019-12-18 12:38:00           43 Hill St, Atlanta, GA 30301   \n",
              "\n",
              "                 Month    Sales            City  Hour    sales  \n",
              "0  2019-12-30 00:01:00  1700.00   New York City     0  1700.00  \n",
              "1  2019-12-29 07:03:00   600.00   New York City     7   600.00  \n",
              "2  2019-12-12 18:21:00    11.95   New York City    18    11.95  \n",
              "3  2019-12-22 15:13:00   149.99   San Francisco    15   149.99  \n",
              "4  2019-12-18 12:38:00    11.95         Atlanta    12    11.95  "
            ],
            "text/html": [
              "\n",
              "  <div id=\"df-21e367e0-9e4d-482c-91c7-ad0bfa8bf47f\" class=\"colab-df-container\">\n",
              "    <div>\n",
              "<style scoped>\n",
              "    .dataframe tbody tr th:only-of-type {\n",
              "        vertical-align: middle;\n",
              "    }\n",
              "\n",
              "    .dataframe tbody tr th {\n",
              "        vertical-align: top;\n",
              "    }\n",
              "\n",
              "    .dataframe thead th {\n",
              "        text-align: right;\n",
              "    }\n",
              "</style>\n",
              "<table border=\"1\" class=\"dataframe\">\n",
              "  <thead>\n",
              "    <tr style=\"text-align: right;\">\n",
              "      <th></th>\n",
              "      <th>Unnamed: 0</th>\n",
              "      <th>Order ID</th>\n",
              "      <th>Product</th>\n",
              "      <th>Quantity Ordered</th>\n",
              "      <th>Price Each</th>\n",
              "      <th>Order Date</th>\n",
              "      <th>Purchase Address</th>\n",
              "      <th>Month</th>\n",
              "      <th>Sales</th>\n",
              "      <th>City</th>\n",
              "      <th>Hour</th>\n",
              "      <th>sales</th>\n",
              "    </tr>\n",
              "  </thead>\n",
              "  <tbody>\n",
              "    <tr>\n",
              "      <th>0</th>\n",
              "      <td>0</td>\n",
              "      <td>295665</td>\n",
              "      <td>Macbook Pro Laptop</td>\n",
              "      <td>1</td>\n",
              "      <td>1700.00</td>\n",
              "      <td>2019-12-30 00:01:00</td>\n",
              "      <td>136 Church St, New York City, NY 10001</td>\n",
              "      <td>2019-12-30 00:01:00</td>\n",
              "      <td>1700.00</td>\n",
              "      <td>New York City</td>\n",
              "      <td>0</td>\n",
              "      <td>1700.00</td>\n",
              "    </tr>\n",
              "    <tr>\n",
              "      <th>1</th>\n",
              "      <td>1</td>\n",
              "      <td>295666</td>\n",
              "      <td>LG Washing Machine</td>\n",
              "      <td>1</td>\n",
              "      <td>600.00</td>\n",
              "      <td>2019-12-29 07:03:00</td>\n",
              "      <td>562 2nd St, New York City, NY 10001</td>\n",
              "      <td>2019-12-29 07:03:00</td>\n",
              "      <td>600.00</td>\n",
              "      <td>New York City</td>\n",
              "      <td>7</td>\n",
              "      <td>600.00</td>\n",
              "    </tr>\n",
              "    <tr>\n",
              "      <th>2</th>\n",
              "      <td>2</td>\n",
              "      <td>295667</td>\n",
              "      <td>USB-C Charging Cable</td>\n",
              "      <td>1</td>\n",
              "      <td>11.95</td>\n",
              "      <td>2019-12-12 18:21:00</td>\n",
              "      <td>277 Main St, New York City, NY 10001</td>\n",
              "      <td>2019-12-12 18:21:00</td>\n",
              "      <td>11.95</td>\n",
              "      <td>New York City</td>\n",
              "      <td>18</td>\n",
              "      <td>11.95</td>\n",
              "    </tr>\n",
              "    <tr>\n",
              "      <th>3</th>\n",
              "      <td>3</td>\n",
              "      <td>295668</td>\n",
              "      <td>27in FHD Monitor</td>\n",
              "      <td>1</td>\n",
              "      <td>149.99</td>\n",
              "      <td>2019-12-22 15:13:00</td>\n",
              "      <td>410 6th St, San Francisco, CA 94016</td>\n",
              "      <td>2019-12-22 15:13:00</td>\n",
              "      <td>149.99</td>\n",
              "      <td>San Francisco</td>\n",
              "      <td>15</td>\n",
              "      <td>149.99</td>\n",
              "    </tr>\n",
              "    <tr>\n",
              "      <th>4</th>\n",
              "      <td>4</td>\n",
              "      <td>295669</td>\n",
              "      <td>USB-C Charging Cable</td>\n",
              "      <td>1</td>\n",
              "      <td>11.95</td>\n",
              "      <td>2019-12-18 12:38:00</td>\n",
              "      <td>43 Hill St, Atlanta, GA 30301</td>\n",
              "      <td>2019-12-18 12:38:00</td>\n",
              "      <td>11.95</td>\n",
              "      <td>Atlanta</td>\n",
              "      <td>12</td>\n",
              "      <td>11.95</td>\n",
              "    </tr>\n",
              "  </tbody>\n",
              "</table>\n",
              "</div>\n",
              "    <div class=\"colab-df-buttons\">\n",
              "\n",
              "  <div class=\"colab-df-container\">\n",
              "    <button class=\"colab-df-convert\" onclick=\"convertToInteractive('df-21e367e0-9e4d-482c-91c7-ad0bfa8bf47f')\"\n",
              "            title=\"Convert this dataframe to an interactive table.\"\n",
              "            style=\"display:none;\">\n",
              "\n",
              "  <svg xmlns=\"http://www.w3.org/2000/svg\" height=\"24px\" viewBox=\"0 -960 960 960\">\n",
              "    <path d=\"M120-120v-720h720v720H120Zm60-500h600v-160H180v160Zm220 220h160v-160H400v160Zm0 220h160v-160H400v160ZM180-400h160v-160H180v160Zm440 0h160v-160H620v160ZM180-180h160v-160H180v160Zm440 0h160v-160H620v160Z\"/>\n",
              "  </svg>\n",
              "    </button>\n",
              "\n",
              "  <style>\n",
              "    .colab-df-container {\n",
              "      display:flex;\n",
              "      gap: 12px;\n",
              "    }\n",
              "\n",
              "    .colab-df-convert {\n",
              "      background-color: #E8F0FE;\n",
              "      border: none;\n",
              "      border-radius: 50%;\n",
              "      cursor: pointer;\n",
              "      display: none;\n",
              "      fill: #1967D2;\n",
              "      height: 32px;\n",
              "      padding: 0 0 0 0;\n",
              "      width: 32px;\n",
              "    }\n",
              "\n",
              "    .colab-df-convert:hover {\n",
              "      background-color: #E2EBFA;\n",
              "      box-shadow: 0px 1px 2px rgba(60, 64, 67, 0.3), 0px 1px 3px 1px rgba(60, 64, 67, 0.15);\n",
              "      fill: #174EA6;\n",
              "    }\n",
              "\n",
              "    .colab-df-buttons div {\n",
              "      margin-bottom: 4px;\n",
              "    }\n",
              "\n",
              "    [theme=dark] .colab-df-convert {\n",
              "      background-color: #3B4455;\n",
              "      fill: #D2E3FC;\n",
              "    }\n",
              "\n",
              "    [theme=dark] .colab-df-convert:hover {\n",
              "      background-color: #434B5C;\n",
              "      box-shadow: 0px 1px 3px 1px rgba(0, 0, 0, 0.15);\n",
              "      filter: drop-shadow(0px 1px 2px rgba(0, 0, 0, 0.3));\n",
              "      fill: #FFFFFF;\n",
              "    }\n",
              "  </style>\n",
              "\n",
              "    <script>\n",
              "      const buttonEl =\n",
              "        document.querySelector('#df-21e367e0-9e4d-482c-91c7-ad0bfa8bf47f button.colab-df-convert');\n",
              "      buttonEl.style.display =\n",
              "        google.colab.kernel.accessAllowed ? 'block' : 'none';\n",
              "\n",
              "      async function convertToInteractive(key) {\n",
              "        const element = document.querySelector('#df-21e367e0-9e4d-482c-91c7-ad0bfa8bf47f');\n",
              "        const dataTable =\n",
              "          await google.colab.kernel.invokeFunction('convertToInteractive',\n",
              "                                                    [key], {});\n",
              "        if (!dataTable) return;\n",
              "\n",
              "        const docLinkHtml = 'Like what you see? Visit the ' +\n",
              "          '<a target=\"_blank\" href=https://colab.research.google.com/notebooks/data_table.ipynb>data table notebook</a>'\n",
              "          + ' to learn more about interactive tables.';\n",
              "        element.innerHTML = '';\n",
              "        dataTable['output_type'] = 'display_data';\n",
              "        await google.colab.output.renderOutput(dataTable, element);\n",
              "        const docLink = document.createElement('div');\n",
              "        docLink.innerHTML = docLinkHtml;\n",
              "        element.appendChild(docLink);\n",
              "      }\n",
              "    </script>\n",
              "  </div>\n",
              "\n",
              "\n",
              "<div id=\"df-2e72ecda-e52f-4644-bc70-5366337cdf27\">\n",
              "  <button class=\"colab-df-quickchart\" onclick=\"quickchart('df-2e72ecda-e52f-4644-bc70-5366337cdf27')\"\n",
              "            title=\"Suggest charts\"\n",
              "            style=\"display:none;\">\n",
              "\n",
              "<svg xmlns=\"http://www.w3.org/2000/svg\" height=\"24px\"viewBox=\"0 0 24 24\"\n",
              "     width=\"24px\">\n",
              "    <g>\n",
              "        <path d=\"M19 3H5c-1.1 0-2 .9-2 2v14c0 1.1.9 2 2 2h14c1.1 0 2-.9 2-2V5c0-1.1-.9-2-2-2zM9 17H7v-7h2v7zm4 0h-2V7h2v10zm4 0h-2v-4h2v4z\"/>\n",
              "    </g>\n",
              "</svg>\n",
              "  </button>\n",
              "\n",
              "<style>\n",
              "  .colab-df-quickchart {\n",
              "      --bg-color: #E8F0FE;\n",
              "      --fill-color: #1967D2;\n",
              "      --hover-bg-color: #E2EBFA;\n",
              "      --hover-fill-color: #174EA6;\n",
              "      --disabled-fill-color: #AAA;\n",
              "      --disabled-bg-color: #DDD;\n",
              "  }\n",
              "\n",
              "  [theme=dark] .colab-df-quickchart {\n",
              "      --bg-color: #3B4455;\n",
              "      --fill-color: #D2E3FC;\n",
              "      --hover-bg-color: #434B5C;\n",
              "      --hover-fill-color: #FFFFFF;\n",
              "      --disabled-bg-color: #3B4455;\n",
              "      --disabled-fill-color: #666;\n",
              "  }\n",
              "\n",
              "  .colab-df-quickchart {\n",
              "    background-color: var(--bg-color);\n",
              "    border: none;\n",
              "    border-radius: 50%;\n",
              "    cursor: pointer;\n",
              "    display: none;\n",
              "    fill: var(--fill-color);\n",
              "    height: 32px;\n",
              "    padding: 0;\n",
              "    width: 32px;\n",
              "  }\n",
              "\n",
              "  .colab-df-quickchart:hover {\n",
              "    background-color: var(--hover-bg-color);\n",
              "    box-shadow: 0 1px 2px rgba(60, 64, 67, 0.3), 0 1px 3px 1px rgba(60, 64, 67, 0.15);\n",
              "    fill: var(--button-hover-fill-color);\n",
              "  }\n",
              "\n",
              "  .colab-df-quickchart-complete:disabled,\n",
              "  .colab-df-quickchart-complete:disabled:hover {\n",
              "    background-color: var(--disabled-bg-color);\n",
              "    fill: var(--disabled-fill-color);\n",
              "    box-shadow: none;\n",
              "  }\n",
              "\n",
              "  .colab-df-spinner {\n",
              "    border: 2px solid var(--fill-color);\n",
              "    border-color: transparent;\n",
              "    border-bottom-color: var(--fill-color);\n",
              "    animation:\n",
              "      spin 1s steps(1) infinite;\n",
              "  }\n",
              "\n",
              "  @keyframes spin {\n",
              "    0% {\n",
              "      border-color: transparent;\n",
              "      border-bottom-color: var(--fill-color);\n",
              "      border-left-color: var(--fill-color);\n",
              "    }\n",
              "    20% {\n",
              "      border-color: transparent;\n",
              "      border-left-color: var(--fill-color);\n",
              "      border-top-color: var(--fill-color);\n",
              "    }\n",
              "    30% {\n",
              "      border-color: transparent;\n",
              "      border-left-color: var(--fill-color);\n",
              "      border-top-color: var(--fill-color);\n",
              "      border-right-color: var(--fill-color);\n",
              "    }\n",
              "    40% {\n",
              "      border-color: transparent;\n",
              "      border-right-color: var(--fill-color);\n",
              "      border-top-color: var(--fill-color);\n",
              "    }\n",
              "    60% {\n",
              "      border-color: transparent;\n",
              "      border-right-color: var(--fill-color);\n",
              "    }\n",
              "    80% {\n",
              "      border-color: transparent;\n",
              "      border-right-color: var(--fill-color);\n",
              "      border-bottom-color: var(--fill-color);\n",
              "    }\n",
              "    90% {\n",
              "      border-color: transparent;\n",
              "      border-bottom-color: var(--fill-color);\n",
              "    }\n",
              "  }\n",
              "</style>\n",
              "\n",
              "  <script>\n",
              "    async function quickchart(key) {\n",
              "      const quickchartButtonEl =\n",
              "        document.querySelector('#' + key + ' button');\n",
              "      quickchartButtonEl.disabled = true;  // To prevent multiple clicks.\n",
              "      quickchartButtonEl.classList.add('colab-df-spinner');\n",
              "      try {\n",
              "        const charts = await google.colab.kernel.invokeFunction(\n",
              "            'suggestCharts', [key], {});\n",
              "      } catch (error) {\n",
              "        console.error('Error during call to suggestCharts:', error);\n",
              "      }\n",
              "      quickchartButtonEl.classList.remove('colab-df-spinner');\n",
              "      quickchartButtonEl.classList.add('colab-df-quickchart-complete');\n",
              "    }\n",
              "    (() => {\n",
              "      let quickchartButtonEl =\n",
              "        document.querySelector('#df-2e72ecda-e52f-4644-bc70-5366337cdf27 button');\n",
              "      quickchartButtonEl.style.display =\n",
              "        google.colab.kernel.accessAllowed ? 'block' : 'none';\n",
              "    })();\n",
              "  </script>\n",
              "</div>\n",
              "\n",
              "    </div>\n",
              "  </div>\n"
            ]
          },
          "metadata": {},
          "execution_count": 21
        }
      ]
    },
    {
      "cell_type": "code",
      "source": [
        "all_data.groupby('Month')['sales'].sum()"
      ],
      "metadata": {
        "colab": {
          "base_uri": "https://localhost:8080/"
        },
        "id": "RWRXea0tYBQG",
        "outputId": "f87e4a88-7583-4f95-a638-94f1fc44cbbb"
      },
      "execution_count": 22,
      "outputs": [
        {
          "output_type": "execute_result",
          "data": {
            "text/plain": [
              "Month\n",
              "2019-01-01 03:07:00     11.99\n",
              "2019-01-01 03:40:00     11.95\n",
              "2019-01-01 04:56:00    150.00\n",
              "2019-01-01 05:53:00      2.99\n",
              "2019-01-01 06:03:00     23.90\n",
              "                        ...  \n",
              "2020-01-01 04:06:00    149.99\n",
              "2020-01-01 04:13:00      2.99\n",
              "2020-01-01 04:21:00     11.95\n",
              "2020-01-01 04:54:00     99.99\n",
              "2020-01-01 05:13:00    114.94\n",
              "Name: sales, Length: 142395, dtype: float64"
            ]
          },
          "metadata": {},
          "execution_count": 22
        }
      ]
    },
    {
      "cell_type": "markdown",
      "source": [
        "Which city has max order?"
      ],
      "metadata": {
        "id": "R3E-Vd5JYPD-"
      }
    },
    {
      "cell_type": "code",
      "source": [
        "'917 1st St, Dallas, TX 75001'.split(',')[1]"
      ],
      "metadata": {
        "colab": {
          "base_uri": "https://localhost:8080/",
          "height": 36
        },
        "id": "HEG3G_3fYL1o",
        "outputId": "799555f6-512b-4eeb-f508-e088629f1a3f"
      },
      "execution_count": 23,
      "outputs": [
        {
          "output_type": "execute_result",
          "data": {
            "text/plain": [
              "' Dallas'"
            ],
            "application/vnd.google.colaboratory.intrinsic+json": {
              "type": "string"
            }
          },
          "metadata": {},
          "execution_count": 23
        }
      ]
    },
    {
      "cell_type": "code",
      "source": [
        "def city(x):\n",
        "  return x.split(',')[1]"
      ],
      "metadata": {
        "id": "fztgDQSkYeHn"
      },
      "execution_count": 24,
      "outputs": []
    },
    {
      "cell_type": "code",
      "source": [
        "all_data['city'] = all_data['Purchase Address'].apply(city)"
      ],
      "metadata": {
        "id": "odwAWvQBYkl8"
      },
      "execution_count": 25,
      "outputs": []
    },
    {
      "cell_type": "code",
      "source": [
        "all_data.groupby('city')['city'].count()"
      ],
      "metadata": {
        "colab": {
          "base_uri": "https://localhost:8080/"
        },
        "id": "13Vh-nfCY2kq",
        "outputId": "d5e229ff-2cac-4c8b-b753-db8e19e6a276"
      },
      "execution_count": 26,
      "outputs": [
        {
          "output_type": "execute_result",
          "data": {
            "text/plain": [
              "city\n",
              " Atlanta          14881\n",
              " Austin            9905\n",
              " Boston           19934\n",
              " Dallas           14820\n",
              " Los Angeles      29605\n",
              " New York City    24876\n",
              " Portland         12465\n",
              " San Francisco    44732\n",
              " Seattle          14732\n",
              "Name: city, dtype: int64"
            ]
          },
          "metadata": {},
          "execution_count": 26
        }
      ]
    },
    {
      "cell_type": "code",
      "source": [
        "plt.bar(all_data.groupby('city')['city'].count().index, all_data.groupby('city')['city'].count())\n",
        "plt.xticks(rotation = 'vertical')\n",
        "plt.ylabel('received orders')\n",
        "plt.xlabel('city names')\n",
        "plt.show()"
      ],
      "metadata": {
        "colab": {
          "base_uri": "https://localhost:8080/",
          "height": 535
        },
        "id": "CJhUJzPmZHCf",
        "outputId": "a04d73ca-282d-4e35-ce44-b9facb3fac49"
      },
      "execution_count": 27,
      "outputs": [
        {
          "output_type": "display_data",
          "data": {
            "text/plain": [
              "<Figure size 640x480 with 1 Axes>"
            ],
            "image/png": "[encoded data removed]"
          },
          "metadata": {}
        }
      ]
    },
    {
      "cell_type": "markdown",
      "source": [
        "What time should we display advertisements to maximize to product purchase"
      ],
      "metadata": {
        "id": "01viR-MdaRBN"
      }
    },
    {
      "cell_type": "code",
      "source": [
        "all_data['Hour'] = pd.to_datetime(all_data['Order Date']).dt.hour"
      ],
      "metadata": {
        "id": "iKHp6OFraCFa"
      },
      "execution_count": 28,
      "outputs": []
    },
    {
      "cell_type": "code",
      "source": [
        "keys = []\n",
        "hour = []\n",
        "for key, hour_df in all_data.groupby('Hour'):\n",
        "  keys.append(key)\n",
        "  hour.append(len(hour_df))"
      ],
      "metadata": {
        "id": "RnLa1KpQaosl"
      },
      "execution_count": 29,
      "outputs": []
    },
    {
      "cell_type": "code",
      "source": [
        "plt.grid()\n",
        "plt.plot(keys,hour)"
      ],
      "metadata": {
        "colab": {
          "base_uri": "https://localhost:8080/",
          "height": 447
        },
        "id": "voZR5PZ6B_s-",
        "outputId": "47b8e483-71e9-4d09-828c-16bdb05f2f65"
      },
      "execution_count": 31,
      "outputs": [
        {
          "output_type": "execute_result",
          "data": {
            "text/plain": [
              "[<matplotlib.lines.Line2D at 0x7b0b32c12740>]"
            ]
          },
          "metadata": {},
          "execution_count": 31
        },
        {
          "output_type": "display_data",
          "data": {
            "text/plain": [
              "<Figure size 640x480 with 1 Axes>"
            ],
            "image/png": "[encoded data removed]"
          },
          "metadata": {}
        }
      ]
    },
    {
      "cell_type": "markdown",
      "source": [
        "Between 12pm to 7pm is probably the best time to maximize\n",
        "\n",
        "product purchase.\n",
        "\n",
        "Which Product is sold the most, and why?"
      ],
      "metadata": {
        "id": "0Pmax7mDCPRJ"
      }
    },
    {
      "cell_type": "code",
      "source": [
        "all_data.groupby('Product')['Quantity Ordered'].sum().plot(kind='bar')"
      ],
      "metadata": {
        "colab": {
          "base_uri": "https://localhost:8080/",
          "height": 663
        },
        "id": "b4JZYsbgCFGv",
        "outputId": "abd2850a-4175-44e2-99c4-7e63a84e97ef"
      },
      "execution_count": 33,
      "outputs": [
        {
          "output_type": "execute_result",
          "data": {
            "text/plain": [
              "<Axes: xlabel='Product'>"
            ]
          },
          "metadata": {},
          "execution_count": 33
        },
        {
          "output_type": "display_data",
          "data": {
            "text/plain": [
              "<Figure size 640x480 with 1 Axes>"
            ],
            "image/png": "[encoded data removed]"
          },
          "metadata": {}
        }
      ]
    },
    {
      "cell_type": "code",
      "source": [
        "all_data.groupby('Product')['Price Each'].mean()"
      ],
      "metadata": {
        "colab": {
          "base_uri": "https://localhost:8080/"
        },
        "id": "DcHEZOfGCu7a",
        "outputId": "aa682570-d849-4b1a-e07c-e82b0e8011e1"
      },
      "execution_count": 34,
      "outputs": [
        {
          "output_type": "execute_result",
          "data": {
            "text/plain": [
              "Product\n",
              "20in Monitor                   109.99\n",
              "27in 4K Gaming Monitor         389.99\n",
              "27in FHD Monitor               149.99\n",
              "34in Ultrawide Monitor         379.99\n",
              "AA Batteries (4-pack)            3.84\n",
              "AAA Batteries (4-pack)           2.99\n",
              "Apple Airpods Headphones       150.00\n",
              "Bose SoundSport Headphones      99.99\n",
              "Flatscreen TV                  300.00\n",
              "Google Phone                   600.00\n",
              "LG Dryer                       600.00\n",
              "LG Washing Machine             600.00\n",
              "Lightning Charging Cable        14.95\n",
              "Macbook Pro Laptop            1700.00\n",
              "ThinkPad Laptop                999.99\n",
              "USB-C Charging Cable            11.95\n",
              "Vareebadd Phone                400.00\n",
              "Wired Headphones                11.99\n",
              "iPhone                         700.00\n",
              "Name: Price Each, dtype: float64"
            ]
          },
          "metadata": {},
          "execution_count": 34
        }
      ]
    },
    {
      "cell_type": "code",
      "source": [
        "products = all_data.groupby('Product')['Quantity Ordered'].sum().index\n",
        "quantity = all_data.groupby('Product')['Quantity Ordered'].sum()\n",
        "prices = all_data.groupby('Product')['Price Each'].mean()"
      ],
      "metadata": {
        "id": "XM9pIydnDAgZ"
      },
      "execution_count": 35,
      "outputs": []
    },
    {
      "cell_type": "code",
      "source": [
        "plt.figure(figsize=(40,24))\n",
        "fig,ax1 = plt.subplots()\n",
        "ax2 = ax1.twinx()\n",
        "ax1.bar(products, quantity, color='g')\n",
        "ax2.plot(products, prices, 'b-')\n",
        "ax1.set_xticklabels(products, rotation = 'vertical', size=8)"
      ],
      "metadata": {
        "colab": {
          "base_uri": "https://localhost:8080/",
          "height": 1000
        },
        "id": "FhoHDzXYDbq5",
        "outputId": "490b079b-5f48-4301-c34b-70d7638006cc"
      },
      "execution_count": 36,
      "outputs": [
        {
          "output_type": "stream",
          "name": "stderr",
          "text": [
            "<ipython-input-36-1f66622153bb>:6: UserWarning:\n",
            "\n",
            "FixedFormatter should only be used together with FixedLocator\n",
            "\n"
          ]
        },
        {
          "output_type": "execute_result",
          "data": {
            "text/plain": [
              "[Text(0, 0, '20in Monitor'),\n",
              " Text(1, 0, '27in 4K Gaming Monitor'),\n",
              " Text(2, 0, '27in FHD Monitor'),\n",
              " Text(3, 0, '34in Ultrawide Monitor'),\n",
              " Text(4, 0, 'AA Batteries (4-pack)'),\n",
              " Text(5, 0, 'AAA Batteries (4-pack)'),\n",
              " Text(6, 0, 'Apple Airpods Headphones'),\n",
              " Text(7, 0, 'Bose SoundSport Headphones'),\n",
              " Text(8, 0, 'Flatscreen TV'),\n",
              " Text(9, 0, 'Google Phone'),\n",
              " Text(10, 0, 'LG Dryer'),\n",
              " Text(11, 0, 'LG Washing Machine'),\n",
              " Text(12, 0, 'Lightning Charging Cable'),\n",
              " Text(13, 0, 'Macbook Pro Laptop'),\n",
              " Text(14, 0, 'ThinkPad Laptop'),\n",
              " Text(15, 0, 'USB-C Charging Cable'),\n",
              " Text(16, 0, 'Vareebadd Phone'),\n",
              " Text(17, 0, 'Wired Headphones'),\n",
              " Text(18, 0, 'iPhone')]"
            ]
          },
          "metadata": {},
          "execution_count": 36
        },
        {
          "output_type": "display_data",
          "data": {
            "text/plain": [
              "<Figure size 4000x2400 with 0 Axes>"
            ]
          },
          "metadata": {}
        },
        {
          "output_type": "display_data",
          "data": {
            "text/plain": [
              "<Figure size 640x480 with 2 Axes>"
            ],
            "image/png": "[encoded data removed]"
          },
          "metadata": {}
        }
      ]
    },
    {
      "cell_type": "markdown",
      "source": [
        "The Top selling product is 'AAA Batteries'.\n",
        "\n",
        "The top selling products seem to have a coreelation with the price of the product.\n",
        "\n",
        "The cheaper the product higher the quantity ordered and vice versa."
      ],
      "metadata": {
        "id": "hlZGMxUfEeGn"
      }
    },
    {
      "cell_type": "code",
      "source": [
        "all_data.shape"
      ],
      "metadata": {
        "colab": {
          "base_uri": "https://localhost:8080/"
        },
        "id": "HR5QleFSETMH",
        "outputId": "9dc102ee-1085-4cc0-c2d0-b96f2f7509ce"
      },
      "execution_count": 37,
      "outputs": [
        {
          "output_type": "execute_result",
          "data": {
            "text/plain": [
              "(185950, 13)"
            ]
          },
          "metadata": {},
          "execution_count": 37
        }
      ]
    },
    {
      "cell_type": "markdown",
      "source": [
        "What products are most often sold together?\n",
        "\n",
        "Note: Keep orders that have same order ID, are sold mostly together."
      ],
      "metadata": {
        "id": "Uozg5jthE7Jp"
      }
    },
    {
      "cell_type": "code",
      "source": [
        "df = all_data[all_data['Order ID'].duplicated(keep = False)]\n",
        "df.head(20)"
      ],
      "metadata": {
        "colab": {
          "base_uri": "https://localhost:8080/",
          "height": 1000
        },
        "id": "3PX_MAZoE5RQ",
        "outputId": "0cce5b49-adf6-4cdd-b855-1be2633fe71a"
      },
      "execution_count": 38,
      "outputs": [
        {
          "output_type": "execute_result",
          "data": {
            "text/plain": [
              "     Unnamed: 0  Order ID                     Product  Quantity Ordered  \\\n",
              "16           16    295681                Google Phone                 1   \n",
              "17           17    295681        USB-C Charging Cable                 1   \n",
              "18           18    295681  Bose SoundSport Headphones                 1   \n",
              "19           19    295681            Wired Headphones                 1   \n",
              "36           36    295698             Vareebadd Phone                 1   \n",
              "37           37    295698        USB-C Charging Cable                 2   \n",
              "42           42    295703       AA Batteries (4-pack)                 1   \n",
              "43           43    295703  Bose SoundSport Headphones                 1   \n",
              "66           66    295726                      iPhone                 1   \n",
              "67           67    295726    Lightning Charging Cable                 1   \n",
              "76           76    295735                      iPhone                 1   \n",
              "77           77    295735    Apple Airpods Headphones                 1   \n",
              "78           78    295735            Wired Headphones                 1   \n",
              "80           80    295737                      iPhone                 1   \n",
              "81           81    295737    Lightning Charging Cable                 1   \n",
              "97           97    295753      34in Ultrawide Monitor                 1   \n",
              "98           98    295753    Lightning Charging Cable                 1   \n",
              "104         104    295759  Bose SoundSport Headphones                 1   \n",
              "105         105    295759            Wired Headphones                 1   \n",
              "129         129    295783             Vareebadd Phone                 1   \n",
              "\n",
              "     Price Each           Order Date                         Purchase Address  \\\n",
              "16       600.00  2019-12-25 12:37:00              79 Elm St, Boston, MA 02215   \n",
              "17        11.95  2019-12-25 12:37:00              79 Elm St, Boston, MA 02215   \n",
              "18        99.99  2019-12-25 12:37:00              79 Elm St, Boston, MA 02215   \n",
              "19        11.99  2019-12-25 12:37:00              79 Elm St, Boston, MA 02215   \n",
              "36       400.00  2019-12-13 14:32:00      175 1st St, New York City, NY 10001   \n",
              "37        11.95  2019-12-13 14:32:00      175 1st St, New York City, NY 10001   \n",
              "42         3.84  2019-12-17 12:27:00       502 Jefferson St, Austin, TX 73301   \n",
              "43        99.99  2019-12-17 12:27:00       502 Jefferson St, Austin, TX 73301   \n",
              "66       700.00  2019-12-25 14:49:00        203 Lakeview St, Boston, MA 02215   \n",
              "67        14.95  2019-12-25 14:49:00        203 Lakeview St, Boston, MA 02215   \n",
              "76       700.00  2019-12-22 18:25:00  374 Lincoln St, New York City, NY 10001   \n",
              "77       150.00  2019-12-22 18:25:00  374 Lincoln St, New York City, NY 10001   \n",
              "78        11.99  2019-12-22 18:25:00  374 Lincoln St, New York City, NY 10001   \n",
              "80       700.00  2019-12-19 08:51:00           966 10th St, Atlanta, GA 30301   \n",
              "81        14.95  2019-12-19 08:51:00           966 10th St, Atlanta, GA 30301   \n",
              "97       379.99  2019-12-25 06:26:00      365 Washington St, Dallas, TX 75001   \n",
              "98        14.95  2019-12-25 06:26:00      365 Washington St, Dallas, TX 75001   \n",
              "104       99.99  2019-12-25 06:53:00      15 Pine St, New York City, NY 10001   \n",
              "105       11.99  2019-12-25 06:53:00      15 Pine St, New York City, NY 10001   \n",
              "129      400.00  2019-12-06 12:41:00       87 5th St, San Francisco, CA 94016   \n",
              "\n",
              "                   Month   Sales            City  Hour   sales            city  \n",
              "16   2019-12-25 12:37:00  600.00          Boston    12  600.00          Boston  \n",
              "17   2019-12-25 12:37:00   11.95          Boston    12   11.95          Boston  \n",
              "18   2019-12-25 12:37:00   99.99          Boston    12   99.99          Boston  \n",
              "19   2019-12-25 12:37:00   11.99          Boston    12   11.99          Boston  \n",
              "36   2019-12-13 14:32:00  400.00   New York City    14  400.00   New York City  \n",
              "37   2019-12-13 14:32:00   23.90   New York City    14   23.90   New York City  \n",
              "42   2019-12-17 12:27:00    3.84          Austin    12    3.84          Austin  \n",
              "43   2019-12-17 12:27:00   99.99          Austin    12   99.99          Austin  \n",
              "66   2019-12-25 14:49:00  700.00          Boston    14  700.00          Boston  \n",
              "67   2019-12-25 14:49:00   14.95          Boston    14   14.95          Boston  \n",
              "76   2019-12-22 18:25:00  700.00   New York City    18  700.00   New York City  \n",
              "77   2019-12-22 18:25:00  150.00   New York City    18  150.00   New York City  \n",
              "78   2019-12-22 18:25:00   11.99   New York City    18   11.99   New York City  \n",
              "80   2019-12-19 08:51:00  700.00         Atlanta     8  700.00         Atlanta  \n",
              "81   2019-12-19 08:51:00   14.95         Atlanta     8   14.95         Atlanta  \n",
              "97   2019-12-25 06:26:00  379.99          Dallas     6  379.99          Dallas  \n",
              "98   2019-12-25 06:26:00   14.95          Dallas     6   14.95          Dallas  \n",
              "104  2019-12-25 06:53:00   99.99   New York City     6   99.99   New York City  \n",
              "105  2019-12-25 06:53:00   11.99   New York City     6   11.99   New York City  \n",
              "129  2019-12-06 12:41:00  400.00   San Francisco    12  400.00   San Francisco  "
            ],
            "text/html": [
              "\n",
              "  <div id=\"df-8219fdbb-e22c-41b4-bcc7-4b7570e5b063\" class=\"colab-df-container\">\n",
              "    <div>\n",
              "<style scoped>\n",
              "    .dataframe tbody tr th:only-of-type {\n",
              "        vertical-align: middle;\n",
              "    }\n",
              "\n",
              "    .dataframe tbody tr th {\n",
              "        vertical-align: top;\n",
              "    }\n",
              "\n",
              "    .dataframe thead th {\n",
              "        text-align: right;\n",
              "    }\n",
              "</style>\n",
              "<table border=\"1\" class=\"dataframe\">\n",
              "  <thead>\n",
              "    <tr style=\"text-align: right;\">\n",
              "      <th></th>\n",
              "      <th>Unnamed: 0</th>\n",
              "      <th>Order ID</th>\n",
              "      <th>Product</th>\n",
              "      <th>Quantity Ordered</th>\n",
              "      <th>Price Each</th>\n",
              "      <th>Order Date</th>\n",
              "      <th>Purchase Address</th>\n",
              "      <th>Month</th>\n",
              "      <th>Sales</th>\n",
              "      <th>City</th>\n",
              "      <th>Hour</th>\n",
              "      <th>sales</th>\n",
              "      <th>city</th>\n",
              "    </tr>\n",
              "  </thead>\n",
              "  <tbody>\n",
              "    <tr>\n",
              "      <th>16</th>\n",
              "      <td>16</td>\n",
              "      <td>295681</td>\n",
              "      <td>Google Phone</td>\n",
              "      <td>1</td>\n",
              "      <td>600.00</td>\n",
              "      <td>2019-12-25 12:37:00</td>\n",
              "      <td>79 Elm St, Boston, MA 02215</td>\n",
              "      <td>2019-12-25 12:37:00</td>\n",
              "      <td>600.00</td>\n",
              "      <td>Boston</td>\n",
              "      <td>12</td>\n",
              "      <td>600.00</td>\n",
              "      <td>Boston</td>\n",
              "    </tr>\n",
              "    <tr>\n",
              "      <th>17</th>\n",
              "      <td>17</td>\n",
              "      <td>295681</td>\n",
              "      <td>USB-C Charging Cable</td>\n",
              "      <td>1</td>\n",
              "      <td>11.95</td>\n",
              "      <td>2019-12-25 12:37:00</td>\n",
              "      <td>79 Elm St, Boston, MA 02215</td>\n",
              "      <td>2019-12-25 12:37:00</td>\n",
              "      <td>11.95</td>\n",
              "      <td>Boston</td>\n",
              "      <td>12</td>\n",
              "      <td>11.95</td>\n",
              "      <td>Boston</td>\n",
              "    </tr>\n",
              "    <tr>\n",
              "      <th>18</th>\n",
              "      <td>18</td>\n",
              "      <td>295681</td>\n",
              "      <td>Bose SoundSport Headphones</td>\n",
              "      <td>1</td>\n",
              "      <td>99.99</td>\n",
              "      <td>2019-12-25 12:37:00</td>\n",
              "      <td>79 Elm St, Boston, MA 02215</td>\n",
              "      <td>2019-12-25 12:37:00</td>\n",
              "      <td>99.99</td>\n",
              "      <td>Boston</td>\n",
              "      <td>12</td>\n",
              "      <td>99.99</td>\n",
              "      <td>Boston</td>\n",
              "    </tr>\n",
              "    <tr>\n",
              "      <th>19</th>\n",
              "      <td>19</td>\n",
              "      <td>295681</td>\n",
              "      <td>Wired Headphones</td>\n",
              "      <td>1</td>\n",
              "      <td>11.99</td>\n",
              "      <td>2019-12-25 12:37:00</td>\n",
              "      <td>79 Elm St, Boston, MA 02215</td>\n",
              "      <td>2019-12-25 12:37:00</td>\n",
              "      <td>11.99</td>\n",
              "      <td>Boston</td>\n",
              "      <td>12</td>\n",
              "      <td>11.99</td>\n",
              "      <td>Boston</td>\n",
              "    </tr>\n",
              "    <tr>\n",
              "      <th>36</th>\n",
              "      <td>36</td>\n",
              "      <td>295698</td>\n",
              "      <td>Vareebadd Phone</td>\n",
              "      <td>1</td>\n",
              "      <td>400.00</td>\n",
              "      <td>2019-12-13 14:32:00</td>\n",
              "      <td>175 1st St, New York City, NY 10001</td>\n",
              "      <td>2019-12-13 14:32:00</td>\n",
              "      <td>400.00</td>\n",
              "      <td>New York City</td>\n",
              "      <td>14</td>\n",
              "      <td>400.00</td>\n",
              "      <td>New York City</td>\n",
              "    </tr>\n",
              "    <tr>\n",
              "      <th>37</th>\n",
              "      <td>37</td>\n",
              "      <td>295698</td>\n",
              "      <td>USB-C Charging Cable</td>\n",
              "      <td>2</td>\n",
              "      <td>11.95</td>\n",
              "      <td>2019-12-13 14:32:00</td>\n",
              "      <td>175 1st St, New York City, NY 10001</td>\n",
              "      <td>2019-12-13 14:32:00</td>\n",
              "      <td>23.90</td>\n",
              "      <td>New York City</td>\n",
              "      <td>14</td>\n",
              "      <td>23.90</td>\n",
              "      <td>New York City</td>\n",
              "    </tr>\n",
              "    <tr>\n",
              "      <th>42</th>\n",
              "      <td>42</td>\n",
              "      <td>295703</td>\n",
              "      <td>AA Batteries (4-pack)</td>\n",
              "      <td>1</td>\n",
              "      <td>3.84</td>\n",
              "      <td>2019-12-17 12:27:00</td>\n",
              "      <td>502 Jefferson St, Austin, TX 73301</td>\n",
              "      <td>2019-12-17 12:27:00</td>\n",
              "      <td>3.84</td>\n",
              "      <td>Austin</td>\n",
              "      <td>12</td>\n",
              "      <td>3.84</td>\n",
              "      <td>Austin</td>\n",
              "    </tr>\n",
              "    <tr>\n",
              "      <th>43</th>\n",
              "      <td>43</td>\n",
              "      <td>295703</td>\n",
              "      <td>Bose SoundSport Headphones</td>\n",
              "      <td>1</td>\n",
              "      <td>99.99</td>\n",
              "      <td>2019-12-17 12:27:00</td>\n",
              "      <td>502 Jefferson St, Austin, TX 73301</td>\n",
              "      <td>2019-12-17 12:27:00</td>\n",
              "      <td>99.99</td>\n",
              "      <td>Austin</td>\n",
              "      <td>12</td>\n",
              "      <td>99.99</td>\n",
              "      <td>Austin</td>\n",
              "    </tr>\n",
              "    <tr>\n",
              "      <th>66</th>\n",
              "      <td>66</td>\n",
              "      <td>295726</td>\n",
              "      <td>iPhone</td>\n",
              "      <td>1</td>\n",
              "      <td>700.00</td>\n",
              "      <td>2019-12-25 14:49:00</td>\n",
              "      <td>203 Lakeview St, Boston, MA 02215</td>\n",
              "      <td>2019-12-25 14:49:00</td>\n",
              "      <td>700.00</td>\n",
              "      <td>Boston</td>\n",
              "      <td>14</td>\n",
              "      <td>700.00</td>\n",
              "      <td>Boston</td>\n",
              "    </tr>\n",
              "    <tr>\n",
              "      <th>67</th>\n",
              "      <td>67</td>\n",
              "      <td>295726</td>\n",
              "      <td>Lightning Charging Cable</td>\n",
              "      <td>1</td>\n",
              "      <td>14.95</td>\n",
              "      <td>2019-12-25 14:49:00</td>\n",
              "      <td>203 Lakeview St, Boston, MA 02215</td>\n",
              "      <td>2019-12-25 14:49:00</td>\n",
              "      <td>14.95</td>\n",
              "      <td>Boston</td>\n",
              "      <td>14</td>\n",
              "      <td>14.95</td>\n",
              "      <td>Boston</td>\n",
              "    </tr>\n",
              "    <tr>\n",
              "      <th>76</th>\n",
              "      <td>76</td>\n",
              "      <td>295735</td>\n",
              "      <td>iPhone</td>\n",
              "      <td>1</td>\n",
              "      <td>700.00</td>\n",
              "      <td>2019-12-22 18:25:00</td>\n",
              "      <td>374 Lincoln St, New York City, NY 10001</td>\n",
              "      <td>2019-12-22 18:25:00</td>\n",
              "      <td>700.00</td>\n",
              "      <td>New York City</td>\n",
              "      <td>18</td>\n",
              "      <td>700.00</td>\n",
              "      <td>New York City</td>\n",
              "    </tr>\n",
              "    <tr>\n",
              "      <th>77</th>\n",
              "      <td>77</td>\n",
              "      <td>295735</td>\n",
              "      <td>Apple Airpods Headphones</td>\n",
              "      <td>1</td>\n",
              "      <td>150.00</td>\n",
              "      <td>2019-12-22 18:25:00</td>\n",
              "      <td>374 Lincoln St, New York City, NY 10001</td>\n",
              "      <td>2019-12-22 18:25:00</td>\n",
              "      <td>150.00</td>\n",
              "      <td>New York City</td>\n",
              "      <td>18</td>\n",
              "      <td>150.00</td>\n",
              "      <td>New York City</td>\n",
              "    </tr>\n",
              "    <tr>\n",
              "      <th>78</th>\n",
              "      <td>78</td>\n",
              "      <td>295735</td>\n",
              "      <td>Wired Headphones</td>\n",
              "      <td>1</td>\n",
              "      <td>11.99</td>\n",
              "      <td>2019-12-22 18:25:00</td>\n",
              "      <td>374 Lincoln St, New York City, NY 10001</td>\n",
              "      <td>2019-12-22 18:25:00</td>\n",
              "      <td>11.99</td>\n",
              "      <td>New York City</td>\n",
              "      <td>18</td>\n",
              "      <td>11.99</td>\n",
              "      <td>New York City</td>\n",
              "    </tr>\n",
              "    <tr>\n",
              "      <th>80</th>\n",
              "      <td>80</td>\n",
              "      <td>295737</td>\n",
              "      <td>iPhone</td>\n",
              "      <td>1</td>\n",
              "      <td>700.00</td>\n",
              "      <td>2019-12-19 08:51:00</td>\n",
              "      <td>966 10th St, Atlanta, GA 30301</td>\n",
              "      <td>2019-12-19 08:51:00</td>\n",
              "      <td>700.00</td>\n",
              "      <td>Atlanta</td>\n",
              "      <td>8</td>\n",
              "      <td>700.00</td>\n",
              "      <td>Atlanta</td>\n",
              "    </tr>\n",
              "    <tr>\n",
              "      <th>81</th>\n",
              "      <td>81</td>\n",
              "      <td>295737</td>\n",
              "      <td>Lightning Charging Cable</td>\n",
              "      <td>1</td>\n",
              "      <td>14.95</td>\n",
              "      <td>2019-12-19 08:51:00</td>\n",
              "      <td>966 10th St, Atlanta, GA 30301</td>\n",
              "      <td>2019-12-19 08:51:00</td>\n",
              "      <td>14.95</td>\n",
              "      <td>Atlanta</td>\n",
              "      <td>8</td>\n",
              "      <td>14.95</td>\n",
              "      <td>Atlanta</td>\n",
              "    </tr>\n",
              "    <tr>\n",
              "      <th>97</th>\n",
              "      <td>97</td>\n",
              "      <td>295753</td>\n",
              "      <td>34in Ultrawide Monitor</td>\n",
              "      <td>1</td>\n",
              "      <td>379.99</td>\n",
              "      <td>2019-12-25 06:26:00</td>\n",
              "      <td>365 Washington St, Dallas, TX 75001</td>\n",
              "      <td>2019-12-25 06:26:00</td>\n",
              "      <td>379.99</td>\n",
              "      <td>Dallas</td>\n",
              "      <td>6</td>\n",
              "      <td>379.99</td>\n",
              "      <td>Dallas</td>\n",
              "    </tr>\n",
              "    <tr>\n",
              "      <th>98</th>\n",
              "      <td>98</td>\n",
              "      <td>295753</td>\n",
              "      <td>Lightning Charging Cable</td>\n",
              "      <td>1</td>\n",
              "      <td>14.95</td>\n",
              "      <td>2019-12-25 06:26:00</td>\n",
              "      <td>365 Washington St, Dallas, TX 75001</td>\n",
              "      <td>2019-12-25 06:26:00</td>\n",
              "      <td>14.95</td>\n",
              "      <td>Dallas</td>\n",
              "      <td>6</td>\n",
              "      <td>14.95</td>\n",
              "      <td>Dallas</td>\n",
              "    </tr>\n",
              "    <tr>\n",
              "      <th>104</th>\n",
              "      <td>104</td>\n",
              "      <td>295759</td>\n",
              "      <td>Bose SoundSport Headphones</td>\n",
              "      <td>1</td>\n",
              "      <td>99.99</td>\n",
              "      <td>2019-12-25 06:53:00</td>\n",
              "      <td>15 Pine St, New York City, NY 10001</td>\n",
              "      <td>2019-12-25 06:53:00</td>\n",
              "      <td>99.99</td>\n",
              "      <td>New York City</td>\n",
              "      <td>6</td>\n",
              "      <td>99.99</td>\n",
              "      <td>New York City</td>\n",
              "    </tr>\n",
              "    <tr>\n",
              "      <th>105</th>\n",
              "      <td>105</td>\n",
              "      <td>295759</td>\n",
              "      <td>Wired Headphones</td>\n",
              "      <td>1</td>\n",
              "      <td>11.99</td>\n",
              "      <td>2019-12-25 06:53:00</td>\n",
              "      <td>15 Pine St, New York City, NY 10001</td>\n",
              "      <td>2019-12-25 06:53:00</td>\n",
              "      <td>11.99</td>\n",
              "      <td>New York City</td>\n",
              "      <td>6</td>\n",
              "      <td>11.99</td>\n",
              "      <td>New York City</td>\n",
              "    </tr>\n",
              "    <tr>\n",
              "      <th>129</th>\n",
              "      <td>129</td>\n",
              "      <td>295783</td>\n",
              "      <td>Vareebadd Phone</td>\n",
              "      <td>1</td>\n",
              "      <td>400.00</td>\n",
              "      <td>2019-12-06 12:41:00</td>\n",
              "      <td>87 5th St, San Francisco, CA 94016</td>\n",
              "      <td>2019-12-06 12:41:00</td>\n",
              "      <td>400.00</td>\n",
              "      <td>San Francisco</td>\n",
              "      <td>12</td>\n",
              "      <td>400.00</td>\n",
              "      <td>San Francisco</td>\n",
              "    </tr>\n",
              "  </tbody>\n",
              "</table>\n",
              "</div>\n",
              "    <div class=\"colab-df-buttons\">\n",
              "\n",
              "  <div class=\"colab-df-container\">\n",
              "    <button class=\"colab-df-convert\" onclick=\"convertToInteractive('df-8219fdbb-e22c-41b4-bcc7-4b7570e5b063')\"\n",
              "            title=\"Convert this dataframe to an interactive table.\"\n",
              "            style=\"display:none;\">\n",
              "\n",
              "  <svg xmlns=\"http://www.w3.org/2000/svg\" height=\"24px\" viewBox=\"0 -960 960 960\">\n",
              "    <path d=\"M120-120v-720h720v720H120Zm60-500h600v-160H180v160Zm220 220h160v-160H400v160Zm0 220h160v-160H400v160ZM180-400h160v-160H180v160Zm440 0h160v-160H620v160ZM180-180h160v-160H180v160Zm440 0h160v-160H620v160Z\"/>\n",
              "  </svg>\n",
              "    </button>\n",
              "\n",
              "  <style>\n",
              "    .colab-df-container {\n",
              "      display:flex;\n",
              "      gap: 12px;\n",
              "    }\n",
              "\n",
              "    .colab-df-convert {\n",
              "      background-color: #E8F0FE;\n",
              "      border: none;\n",
              "      border-radius: 50%;\n",
              "      cursor: pointer;\n",
              "      display: none;\n",
              "      fill: #1967D2;\n",
              "      height: 32px;\n",
              "      padding: 0 0 0 0;\n",
              "      width: 32px;\n",
              "    }\n",
              "\n",
              "    .colab-df-convert:hover {\n",
              "      background-color: #E2EBFA;\n",
              "      box-shadow: 0px 1px 2px rgba(60, 64, 67, 0.3), 0px 1px 3px 1px rgba(60, 64, 67, 0.15);\n",
              "      fill: #174EA6;\n",
              "    }\n",
              "\n",
              "    .colab-df-buttons div {\n",
              "      margin-bottom: 4px;\n",
              "    }\n",
              "\n",
              "    [theme=dark] .colab-df-convert {\n",
              "      background-color: #3B4455;\n",
              "      fill: #D2E3FC;\n",
              "    }\n",
              "\n",
              "    [theme=dark] .colab-df-convert:hover {\n",
              "      background-color: #434B5C;\n",
              "      box-shadow: 0px 1px 3px 1px rgba(0, 0, 0, 0.15);\n",
              "      filter: drop-shadow(0px 1px 2px rgba(0, 0, 0, 0.3));\n",
              "      fill: #FFFFFF;\n",
              "    }\n",
              "  </style>\n",
              "\n",
              "    <script>\n",
              "      const buttonEl =\n",
              "        document.querySelector('#df-8219fdbb-e22c-41b4-bcc7-4b7570e5b063 button.colab-df-convert');\n",
              "      buttonEl.style.display =\n",
              "        google.colab.kernel.accessAllowed ? 'block' : 'none';\n",
              "\n",
              "      async function convertToInteractive(key) {\n",
              "        const element = document.querySelector('#df-8219fdbb-e22c-41b4-bcc7-4b7570e5b063');\n",
              "        const dataTable =\n",
              "          await google.colab.kernel.invokeFunction('convertToInteractive',\n",
              "                                                    [key], {});\n",
              "        if (!dataTable) return;\n",
              "\n",
              "        const docLinkHtml = 'Like what you see? Visit the ' +\n",
              "          '<a target=\"_blank\" href=https://colab.research.google.com/notebooks/data_table.ipynb>data table notebook</a>'\n",
              "          + ' to learn more about interactive tables.';\n",
              "        element.innerHTML = '';\n",
              "        dataTable['output_type'] = 'display_data';\n",
              "        await google.colab.output.renderOutput(dataTable, element);\n",
              "        const docLink = document.createElement('div');\n",
              "        docLink.innerHTML = docLinkHtml;\n",
              "        element.appendChild(docLink);\n",
              "      }\n",
              "    </script>\n",
              "  </div>\n",
              "\n",
              "\n",
              "<div id=\"df-77840896-15f3-49c6-8802-cdb8a40015ae\">\n",
              "  <button class=\"colab-df-quickchart\" onclick=\"quickchart('df-77840896-15f3-49c6-8802-cdb8a40015ae')\"\n",
              "            title=\"Suggest charts\"\n",
              "            style=\"display:none;\">\n",
              "\n",
              "<svg xmlns=\"http://www.w3.org/2000/svg\" height=\"24px\"viewBox=\"0 0 24 24\"\n",
              "     width=\"24px\">\n",
              "    <g>\n",
              "        <path d=\"M19 3H5c-1.1 0-2 .9-2 2v14c0 1.1.9 2 2 2h14c1.1 0 2-.9 2-2V5c0-1.1-.9-2-2-2zM9 17H7v-7h2v7zm4 0h-2V7h2v10zm4 0h-2v-4h2v4z\"/>\n",
              "    </g>\n",
              "</svg>\n",
              "  </button>\n",
              "\n",
              "<style>\n",
              "  .colab-df-quickchart {\n",
              "      --bg-color: #E8F0FE;\n",
              "      --fill-color: #1967D2;\n",
              "      --hover-bg-color: #E2EBFA;\n",
              "      --hover-fill-color: #174EA6;\n",
              "      --disabled-fill-color: #AAA;\n",
              "      --disabled-bg-color: #DDD;\n",
              "  }\n",
              "\n",
              "  [theme=dark] .colab-df-quickchart {\n",
              "      --bg-color: #3B4455;\n",
              "      --fill-color: #D2E3FC;\n",
              "      --hover-bg-color: #434B5C;\n",
              "      --hover-fill-color: #FFFFFF;\n",
              "      --disabled-bg-color: #3B4455;\n",
              "      --disabled-fill-color: #666;\n",
              "  }\n",
              "\n",
              "  .colab-df-quickchart {\n",
              "    background-color: var(--bg-color);\n",
              "    border: none;\n",
              "    border-radius: 50%;\n",
              "    cursor: pointer;\n",
              "    display: none;\n",
              "    fill: var(--fill-color);\n",
              "    height: 32px;\n",
              "    padding: 0;\n",
              "    width: 32px;\n",
              "  }\n",
              "\n",
              "  .colab-df-quickchart:hover {\n",
              "    background-color: var(--hover-bg-color);\n",
              "    box-shadow: 0 1px 2px rgba(60, 64, 67, 0.3), 0 1px 3px 1px rgba(60, 64, 67, 0.15);\n",
              "    fill: var(--button-hover-fill-color);\n",
              "  }\n",
              "\n",
              "  .colab-df-quickchart-complete:disabled,\n",
              "  .colab-df-quickchart-complete:disabled:hover {\n",
              "    background-color: var(--disabled-bg-color);\n",
              "    fill: var(--disabled-fill-color);\n",
              "    box-shadow: none;\n",
              "  }\n",
              "\n",
              "  .colab-df-spinner {\n",
              "    border: 2px solid var(--fill-color);\n",
              "    border-color: transparent;\n",
              "    border-bottom-color: var(--fill-color);\n",
              "    animation:\n",
              "      spin 1s steps(1) infinite;\n",
              "  }\n",
              "\n",
              "  @keyframes spin {\n",
              "    0% {\n",
              "      border-color: transparent;\n",
              "      border-bottom-color: var(--fill-color);\n",
              "      border-left-color: var(--fill-color);\n",
              "    }\n",
              "    20% {\n",
              "      border-color: transparent;\n",
              "      border-left-color: var(--fill-color);\n",
              "      border-top-color: var(--fill-color);\n",
              "    }\n",
              "    30% {\n",
              "      border-color: transparent;\n",
              "      border-left-color: var(--fill-color);\n",
              "      border-top-color: var(--fill-color);\n",
              "      border-right-color: var(--fill-color);\n",
              "    }\n",
              "    40% {\n",
              "      border-color: transparent;\n",
              "      border-right-color: var(--fill-color);\n",
              "      border-top-color: var(--fill-color);\n",
              "    }\n",
              "    60% {\n",
              "      border-color: transparent;\n",
              "      border-right-color: var(--fill-color);\n",
              "    }\n",
              "    80% {\n",
              "      border-color: transparent;\n",
              "      border-right-color: var(--fill-color);\n",
              "      border-bottom-color: var(--fill-color);\n",
              "    }\n",
              "    90% {\n",
              "      border-color: transparent;\n",
              "      border-bottom-color: var(--fill-color);\n",
              "    }\n",
              "  }\n",
              "</style>\n",
              "\n",
              "  <script>\n",
              "    async function quickchart(key) {\n",
              "      const quickchartButtonEl =\n",
              "        document.querySelector('#' + key + ' button');\n",
              "      quickchartButtonEl.disabled = true;  // To prevent multiple clicks.\n",
              "      quickchartButtonEl.classList.add('colab-df-spinner');\n",
              "      try {\n",
              "        const charts = await google.colab.kernel.invokeFunction(\n",
              "            'suggestCharts', [key], {});\n",
              "      } catch (error) {\n",
              "        console.error('Error during call to suggestCharts:', error);\n",
              "      }\n",
              "      quickchartButtonEl.classList.remove('colab-df-spinner');\n",
              "      quickchartButtonEl.classList.add('colab-df-quickchart-complete');\n",
              "    }\n",
              "    (() => {\n",
              "      let quickchartButtonEl =\n",
              "        document.querySelector('#df-77840896-15f3-49c6-8802-cdb8a40015ae button');\n",
              "      quickchartButtonEl.style.display =\n",
              "        google.colab.kernel.accessAllowed ? 'block' : 'none';\n",
              "    })();\n",
              "  </script>\n",
              "</div>\n",
              "\n",
              "    </div>\n",
              "  </div>\n"
            ]
          },
          "metadata": {},
          "execution_count": 38
        }
      ]
    },
    {
      "cell_type": "code",
      "source": [
        "df['Grouped'] = df.groupby('Order ID')['Product'].transform(lambda x: ','.join(x))"
      ],
      "metadata": {
        "colab": {
          "base_uri": "https://localhost:8080/"
        },
        "id": "lutadEh3FYoT",
        "outputId": "f5cc46c4-b104-4af7-dd9e-941f1bbefb4c"
      },
      "execution_count": 39,
      "outputs": [
        {
          "output_type": "stream",
          "name": "stderr",
          "text": [
            "<ipython-input-39-9d66bca9fec4>:1: SettingWithCopyWarning:\n",
            "\n",
            "\n",
            "A value is trying to be set on a copy of a slice from a DataFrame.\n",
            "Try using .loc[row_indexer,col_indexer] = value instead\n",
            "\n",
            "See the caveats in the documentation: https://pandas.pydata.org/pandas-docs/stable/user_guide/indexing.html#returning-a-view-versus-a-copy\n",
            "\n"
          ]
        }
      ]
    },
    {
      "cell_type": "code",
      "source": [
        "df.shape"
      ],
      "metadata": {
        "colab": {
          "base_uri": "https://localhost:8080/"
        },
        "id": "pm0GuItaFtcL",
        "outputId": "5addd7b5-4e10-4c4f-eb4d-101392a666d3"
      },
      "execution_count": 40,
      "outputs": [
        {
          "output_type": "execute_result",
          "data": {
            "text/plain": [
              "(14649, 14)"
            ]
          },
          "metadata": {},
          "execution_count": 40
        }
      ]
    },
    {
      "cell_type": "code",
      "source": [
        "df2 =df.drop_duplicates(subset=['Order ID'])"
      ],
      "metadata": {
        "id": "h-wtdajmFyrB"
      },
      "execution_count": 42,
      "outputs": []
    },
    {
      "cell_type": "code",
      "source": [
        "df2['Grouped'].value_counts()[0:5].plot.pie()"
      ],
      "metadata": {
        "colab": {
          "base_uri": "https://localhost:8080/",
          "height": 423
        },
        "id": "Cc8UuKwuF8Wr",
        "outputId": "fef61e25-23ec-4284-e56a-35b015d4adb0"
      },
      "execution_count": 43,
      "outputs": [
        {
          "output_type": "execute_result",
          "data": {
            "text/plain": [
              "<Axes: ylabel='Grouped'>"
            ]
          },
          "metadata": {},
          "execution_count": 43
        },
        {
          "output_type": "display_data",
          "data": {
            "text/plain": [
              "<Figure size 640x480 with 1 Axes>"
            ],
            "image/png": "[encoded data removed]"
          },
          "metadata": {}
        }
      ]
    },
    {
      "cell_type": "code",
      "source": [
        "values = df2['Grouped'].value_counts()[0:5]\n",
        "labels = df['Grouped'].value_counts()[0:5].index"
      ],
      "metadata": {
        "id": "oliS2y1NGI7j"
      },
      "execution_count": 48,
      "outputs": []
    },
    {
      "cell_type": "code",
      "source": [
        "trace = go.Pie(labels=labels, values=values,\n",
        "               hoverinfo = 'label+percent', textinfo = 'value',\n",
        "               textfont = dict(size=25),\n",
        "               pull=[0,0,0,0.2,0])"
      ],
      "metadata": {
        "id": "mfsNYUiJGbZW"
      },
      "execution_count": 49,
      "outputs": []
    },
    {
      "cell_type": "code",
      "source": [
        "iplot([trace])"
      ],
      "metadata": {
        "colab": {
          "base_uri": "https://localhost:8080/",
          "height": 542
        },
        "id": "8boP1EbjG2vJ",
        "outputId": "1edb3c19-2706-4c63-d85e-2f7f64db011a"
      },
      "execution_count": 51,
      "outputs": [
        {
          "output_type": "display_data",
          "data": {
            "text/html": [
              "<html>\n",
              "<head><meta charset=\"utf-8\" /></head>\n",
              "<body>\n",
              "    <div>            <script src=\"https://cdnjs.cloudflare.com/ajax/libs/mathjax/2.7.5/MathJax.js?config=TeX-AMS-MML_SVG\"></script><script type=\"text/javascript\">if (window.MathJax && window.MathJax.Hub && window.MathJax.Hub.Config) {window.MathJax.Hub.Config({SVG: {font: \"STIX-Web\"}});}</script>                <script type=\"text/javascript\">window.PlotlyConfig = {MathJaxConfig: 'local'};</script>\n",
              "        <script charset=\"utf-8\" src=\"https://cdn.plot.ly/plotly-2.24.1.min.js\"></script>                <div id=\"e582945e-4c58-4db9-a63a-dea89bdc3dcd\" class=\"plotly-graph-div\" style=\"height:525px; width:100%;\"></div>            <script type=\"text/javascript\">                                    window.PLOTLYENV=window.PLOTLYENV || {};                                    if (document.getElementById(\"e582945e-4c58-4db9-a63a-dea89bdc3dcd\")) {                    Plotly.newPlot(                        \"e582945e-4c58-4db9-a63a-dea89bdc3dcd\",                        [{\"hoverinfo\":\"label+percent\",\"labels\":[\"iPhone,Lightning Charging Cable\",\"Google Phone,USB-C Charging Cable\",\"iPhone,Wired Headphones\",\"Vareebadd Phone,USB-C Charging Cable\",\"Google Phone,Wired Headphones\"],\"pull\":[0,0,0,0.2,0],\"textfont\":{\"size\":25},\"textinfo\":\"value\",\"values\":[882,856,361,312,303],\"type\":\"pie\"}],                        {\"template\":{\"data\":{\"barpolar\":[{\"marker\":{\"line\":{\"color\":\"#E5ECF6\",\"width\":0.5},\"pattern\":{\"fillmode\":\"overlay\",\"size\":10,\"solidity\":0.2}},\"type\":\"barpolar\"}],\"bar\":[{\"error_x\":{\"color\":\"#2a3f5f\"},\"error_y\":{\"color\":\"#2a3f5f\"},\"marker\":{\"line\":{\"color\":\"#E5ECF6\",\"width\":0.5},\"pattern\":{\"fillmode\":\"overlay\",\"size\":10,\"solidity\":0.2}},\"type\":\"bar\"}],\"carpet\":[{\"aaxis\":{\"endlinecolor\":\"#2a3f5f\",\"gridcolor\":\"white\",\"linecolor\":\"white\",\"minorgridcolor\":\"white\",\"startlinecolor\":\"#2a3f5f\"},\"baxis\":{\"endlinecolor\":\"#2a3f5f\",\"gridcolor\":\"white\",\"linecolor\":\"white\",\"minorgridcolor\":\"white\",\"startlinecolor\":\"#2a3f5f\"},\"type\":\"carpet\"}],\"choropleth\":[{\"colorbar\":{\"outlinewidth\":0,\"ticks\":\"\"},\"type\":\"choropleth\"}],\"contourcarpet\":[{\"colorbar\":{\"outlinewidth\":0,\"ticks\":\"\"},\"type\":\"contourcarpet\"}],\"contour\":[{\"colorbar\":{\"outlinewidth\":0,\"ticks\":\"\"},\"colorscale\":[[0.0,\"#0d0887\"],[0.1111111111111111,\"#46039f\"],[0.2222222222222222,\"#7201a8\"],[0.3333333333333333,\"#9c179e\"],[0.4444444444444444,\"#bd3786\"],[0.5555555555555556,\"#d8576b\"],[0.6666666666666666,\"#ed7953\"],[0.7777777777777778,\"#fb9f3a\"],[0.8888888888888888,\"#fdca26\"],[1.0,\"#f0f921\"]],\"type\":\"contour\"}],\"heatmapgl\":[{\"colorbar\":{\"outlinewidth\":0,\"ticks\":\"\"},\"colorscale\":[[0.0,\"#0d0887\"],[0.1111111111111111,\"#46039f\"],[0.2222222222222222,\"#7201a8\"],[0.3333333333333333,\"#9c179e\"],[0.4444444444444444,\"#bd3786\"],[0.5555555555555556,\"#d8576b\"],[0.6666666666666666,\"#ed7953\"],[0.7777777777777778,\"#fb9f3a\"],[0.8888888888888888,\"#fdca26\"],[1.0,\"#f0f921\"]],\"type\":\"heatmapgl\"}],\"heatmap\":[{\"colorbar\":{\"outlinewidth\":0,\"ticks\":\"\"},\"colorscale\":[[0.0,\"#0d0887\"],[0.1111111111111111,\"#46039f\"],[0.2222222222222222,\"#7201a8\"],[0.3333333333333333,\"#9c179e\"],[0.4444444444444444,\"#bd3786\"],[0.5555555555555556,\"#d8576b\"],[0.6666666666666666,\"#ed7953\"],[0.7777777777777778,\"#fb9f3a\"],[0.8888888888888888,\"#fdca26\"],[1.0,\"#f0f921\"]],\"type\":\"heatmap\"}],\"histogram2dcontour\":[{\"colorbar\":{\"outlinewidth\":0,\"ticks\":\"\"},\"colorscale\":[[0.0,\"#0d0887\"],[0.1111111111111111,\"#46039f\"],[0.2222222222222222,\"#7201a8\"],[0.3333333333333333,\"#9c179e\"],[0.4444444444444444,\"#bd3786\"],[0.5555555555555556,\"#d8576b\"],[0.6666666666666666,\"#ed7953\"],[0.7777777777777778,\"#fb9f3a\"],[0.8888888888888888,\"#fdca26\"],[1.0,\"#f0f921\"]],\"type\":\"histogram2dcontour\"}],\"histogram2d\":[{\"colorbar\":{\"outlinewidth\":0,\"ticks\":\"\"},\"colorscale\":[[0.0,\"#0d0887\"],[0.1111111111111111,\"#46039f\"],[0.2222222222222222,\"#7201a8\"],[0.3333333333333333,\"#9c179e\"],[0.4444444444444444,\"#bd3786\"],[0.5555555555555556,\"#d8576b\"],[0.6666666666666666,\"#ed7953\"],[0.7777777777777778,\"#fb9f3a\"],[0.8888888888888888,\"#fdca26\"],[1.0,\"#f0f921\"]],\"type\":\"histogram2d\"}],\"histogram\":[{\"marker\":{\"pattern\":{\"fillmode\":\"overlay\",\"size\":10,\"solidity\":0.2}},\"type\":\"histogram\"}],\"mesh3d\":[{\"colorbar\":{\"outlinewidth\":0,\"ticks\":\"\"},\"type\":\"mesh3d\"}],\"parcoords\":[{\"line\":{\"colorbar\":{\"outlinewidth\":0,\"ticks\":\"\"}},\"type\":\"parcoords\"}],\"pie\":[{\"automargin\":true,\"type\":\"pie\"}],\"scatter3d\":[{\"line\":{\"colorbar\":{\"outlinewidth\":0,\"ticks\":\"\"}},\"marker\":{\"colorbar\":{\"outlinewidth\":0,\"ticks\":\"\"}},\"type\":\"scatter3d\"}],\"scattercarpet\":[{\"marker\":{\"colorbar\":{\"outlinewidth\":0,\"ticks\":\"\"}},\"type\":\"scattercarpet\"}],\"scattergeo\":[{\"marker\":{\"colorbar\":{\"outlinewidth\":0,\"ticks\":\"\"}},\"type\":\"scattergeo\"}],\"scattergl\":[{\"marker\":{\"colorbar\":{\"outlinewidth\":0,\"ticks\":\"\"}},\"type\":\"scattergl\"}],\"scattermapbox\":[{\"marker\":{\"colorbar\":{\"outlinewidth\":0,\"ticks\":\"\"}},\"type\":\"scattermapbox\"}],\"scatterpolargl\":[{\"marker\":{\"colorbar\":{\"outlinewidth\":0,\"ticks\":\"\"}},\"type\":\"scatterpolargl\"}],\"scatterpolar\":[{\"marker\":{\"colorbar\":{\"outlinewidth\":0,\"ticks\":\"\"}},\"type\":\"scatterpolar\"}],\"scatter\":[{\"fillpattern\":{\"fillmode\":\"overlay\",\"size\":10,\"solidity\":0.2},\"type\":\"scatter\"}],\"scatterternary\":[{\"marker\":{\"colorbar\":{\"outlinewidth\":0,\"ticks\":\"\"}},\"type\":\"scatterternary\"}],\"surface\":[{\"colorbar\":{\"outlinewidth\":0,\"ticks\":\"\"},\"colorscale\":[[0.0,\"#0d0887\"],[0.1111111111111111,\"#46039f\"],[0.2222222222222222,\"#7201a8\"],[0.3333333333333333,\"#9c179e\"],[0.4444444444444444,\"#bd3786\"],[0.5555555555555556,\"#d8576b\"],[0.6666666666666666,\"#ed7953\"],[0.7777777777777778,\"#fb9f3a\"],[0.8888888888888888,\"#fdca26\"],[1.0,\"#f0f921\"]],\"type\":\"surface\"}],\"table\":[{\"cells\":{\"fill\":{\"color\":\"#EBF0F8\"},\"line\":{\"color\":\"white\"}},\"header\":{\"fill\":{\"color\":\"#C8D4E3\"},\"line\":{\"color\":\"white\"}},\"type\":\"table\"}]},\"layout\":{\"annotationdefaults\":{\"arrowcolor\":\"#2a3f5f\",\"arrowhead\":0,\"arrowwidth\":1},\"autotypenumbers\":\"strict\",\"coloraxis\":{\"colorbar\":{\"outlinewidth\":0,\"ticks\":\"\"}},\"colorscale\":{\"diverging\":[[0,\"#8e0152\"],[0.1,\"#c51b7d\"],[0.2,\"#de77ae\"],[0.3,\"#f1b6da\"],[0.4,\"#fde0ef\"],[0.5,\"#f7f7f7\"],[0.6,\"#e6f5d0\"],[0.7,\"#b8e186\"],[0.8,\"#7fbc41\"],[0.9,\"#4d9221\"],[1,\"#276419\"]],\"sequential\":[[0.0,\"#0d0887\"],[0.1111111111111111,\"#46039f\"],[0.2222222222222222,\"#7201a8\"],[0.3333333333333333,\"#9c179e\"],[0.4444444444444444,\"#bd3786\"],[0.5555555555555556,\"#d8576b\"],[0.6666666666666666,\"#ed7953\"],[0.7777777777777778,\"#fb9f3a\"],[0.8888888888888888,\"#fdca26\"],[1.0,\"#f0f921\"]],\"sequentialminus\":[[0.0,\"#0d0887\"],[0.1111111111111111,\"#46039f\"],[0.2222222222222222,\"#7201a8\"],[0.3333333333333333,\"#9c179e\"],[0.4444444444444444,\"#bd3786\"],[0.5555555555555556,\"#d8576b\"],[0.6666666666666666,\"#ed7953\"],[0.7777777777777778,\"#fb9f3a\"],[0.8888888888888888,\"#fdca26\"],[1.0,\"#f0f921\"]]},\"colorway\":[\"#636efa\",\"#EF553B\",\"#00cc96\",\"#ab63fa\",\"#FFA15A\",\"#19d3f3\",\"#FF6692\",\"#B6E880\",\"#FF97FF\",\"#FECB52\"],\"font\":{\"color\":\"#2a3f5f\"},\"geo\":{\"bgcolor\":\"white\",\"lakecolor\":\"white\",\"landcolor\":\"#E5ECF6\",\"showlakes\":true,\"showland\":true,\"subunitcolor\":\"white\"},\"hoverlabel\":{\"align\":\"left\"},\"hovermode\":\"closest\",\"mapbox\":{\"style\":\"light\"},\"paper_bgcolor\":\"white\",\"plot_bgcolor\":\"#E5ECF6\",\"polar\":{\"angularaxis\":{\"gridcolor\":\"white\",\"linecolor\":\"white\",\"ticks\":\"\"},\"bgcolor\":\"#E5ECF6\",\"radialaxis\":{\"gridcolor\":\"white\",\"linecolor\":\"white\",\"ticks\":\"\"}},\"scene\":{\"xaxis\":{\"backgroundcolor\":\"#E5ECF6\",\"gridcolor\":\"white\",\"gridwidth\":2,\"linecolor\":\"white\",\"showbackground\":true,\"ticks\":\"\",\"zerolinecolor\":\"white\"},\"yaxis\":{\"backgroundcolor\":\"#E5ECF6\",\"gridcolor\":\"white\",\"gridwidth\":2,\"linecolor\":\"white\",\"showbackground\":true,\"ticks\":\"\",\"zerolinecolor\":\"white\"},\"zaxis\":{\"backgroundcolor\":\"#E5ECF6\",\"gridcolor\":\"white\",\"gridwidth\":2,\"linecolor\":\"white\",\"showbackground\":true,\"ticks\":\"\",\"zerolinecolor\":\"white\"}},\"shapedefaults\":{\"line\":{\"color\":\"#2a3f5f\"}},\"ternary\":{\"aaxis\":{\"gridcolor\":\"white\",\"linecolor\":\"white\",\"ticks\":\"\"},\"baxis\":{\"gridcolor\":\"white\",\"linecolor\":\"white\",\"ticks\":\"\"},\"bgcolor\":\"#E5ECF6\",\"caxis\":{\"gridcolor\":\"white\",\"linecolor\":\"white\",\"ticks\":\"\"}},\"title\":{\"x\":0.05},\"xaxis\":{\"automargin\":true,\"gridcolor\":\"white\",\"linecolor\":\"white\",\"ticks\":\"\",\"title\":{\"standoff\":15},\"zerolinecolor\":\"white\",\"zerolinewidth\":2},\"yaxis\":{\"automargin\":true,\"gridcolor\":\"white\",\"linecolor\":\"white\",\"ticks\":\"\",\"title\":{\"standoff\":15},\"zerolinecolor\":\"white\",\"zerolinewidth\":2}}}},                        {\"responsive\": true}                    ).then(function(){\n",
              "                            \n",
              "var gd = document.getElementById('e582945e-4c58-4db9-a63a-dea89bdc3dcd');\n",
              "var x = new MutationObserver(function (mutations, observer) {{\n",
              "        var display = window.getComputedStyle(gd).display;\n",
              "        if (!display || display === 'none') {{\n",
              "            console.log([gd, 'removed!']);\n",
              "            Plotly.purge(gd);\n",
              "            observer.disconnect();\n",
              "        }}\n",
              "}});\n",
              "\n",
              "// Listen for the removal of the full notebook cells\n",
              "var notebookContainer = gd.closest('#notebook-container');\n",
              "if (notebookContainer) {{\n",
              "    x.observe(notebookContainer, {childList: true});\n",
              "}}\n",
              "\n",
              "// Listen for the clearing of the current output cell\n",
              "var outputEl = gd.closest('.output');\n",
              "if (outputEl) {{\n",
              "    x.observe(outputEl, {childList: true});\n",
              "}}\n",
              "\n",
              "                        })                };                            </script>        </div>\n",
              "</body>\n",
              "</html>"
            ]
          },
          "metadata": {}
        }
      ]
    },
    {
      "cell_type": "markdown",
      "source": [
        "This is my project on Sales data analysis.."
      ],
      "metadata": {
        "id": "R61_N7elJWps"
      }
    }
  ]
}